{
 "cells": [
  {
   "cell_type": "markdown",
   "metadata": {},
   "source": [
    "## HR Analytics - Job Change of Data Scientists\n",
    "\n",
    "### Dataset\n",
    "\n",
    "- enrollee_id : Unique ID for candidate\n",
    "\n",
    "- city: City code\n",
    "\n",
    "- city_ development _index : Developement index of the city (scaled)\n",
    "\n",
    "- gender: Gender of candidate\n",
    "\n",
    "- relevent_experience: Relevant experience of candidate\n",
    "\n",
    "- enrolled_university: Type of University course enrolled if any\n",
    "\n",
    "- education_level: Education level of candidate\n",
    "\n",
    "- major_discipline :Education major discipline of candidate\n",
    "\n",
    "- experience: Candidate total experience in years\n",
    "\n",
    "- company_size: No of employees in current employer's company\n",
    "\n",
    "- company_type : Type of current employer\n",
    "\n",
    "- lastnewjob: Difference in years between previous job and current job\n",
    "\n",
    "- training_hours: training hours completed\n",
    "\n",
    "- target: 0 – Not looking for job change, 1 – Looking for a job change\n",
    "\n",
    "### Inspiration\n",
    "\n",
    "Predict the probability of a candidate will work for the company\n",
    "\n",
    "Interpret model(s) such a way that illustrate which features affect candidate decision"
   ]
  },
  {
   "cell_type": "markdown",
   "metadata": {},
   "source": [
    "[//]: # \"cell intentionally left blank.\""
   ]
  },
  {
   "cell_type": "code",
   "execution_count": null,
   "metadata": {},
   "outputs": [],
   "source": []
  }
 ],
 "metadata": {
  "kernelspec": {
   "display_name": "Python 3",
   "language": "python",
   "name": "python3"
  },
  "language_info": {
   "codemirror_mode": {
    "name": "ipython",
    "version": 3
   },
   "file_extension": ".py",
   "mimetype": "text/x-python",
   "name": "python",
   "nbconvert_exporter": "python",
   "pygments_lexer": "ipython3",
   "version": "3.8.5"
  }
 },
 "nbformat": 4,
 "nbformat_minor": 4
}
