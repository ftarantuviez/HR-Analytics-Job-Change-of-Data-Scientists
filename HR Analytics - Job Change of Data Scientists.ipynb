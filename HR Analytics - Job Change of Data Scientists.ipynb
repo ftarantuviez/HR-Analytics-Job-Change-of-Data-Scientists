{
 "cells": [
  {
   "cell_type": "markdown",
   "metadata": {},
   "source": [
    "# HR Analytics - Job Change of Data Scientists\n",
    "\n",
    "<ol>\n",
    "    <li> \n",
    "        <a href=\"#understanding_data\"> Understanding Data </a> \n",
    "        <ul style=\"list-style: none;\">\n",
    "            <li> \n",
    "                1.1<a href=\"#city\"> City </a> \n",
    "            </li>\n",
    "            <li> \n",
    "                1.2<a href=\"#cdi\"> City Development Index </a> \n",
    "            </li>\n",
    "            <li> \n",
    "                1.3<a href=\"#gender\"> Gender </a> \n",
    "            </li>\n",
    "            <li> \n",
    "                1.4<a href=\"#relevant_exp\"> Relevant Experience </a> \n",
    "            </li>\n",
    "            <li> \n",
    "                1.5<a href=\"#enrrolled_univ\"> Enrolled University </a> \n",
    "            </li>\n",
    "            <li> \n",
    "                1.6<a href=\"#education_level\"> Education Level </a> \n",
    "            </li>\n",
    "            <li> \n",
    "                1.7<a href=\"#major_discipline\"> Major Discipline </a> \n",
    "            </li>\n",
    "            <li> \n",
    "                1.8<a href=\"#experience\"> Experience </a> \n",
    "            </li>\n",
    "            <li> \n",
    "                1.9<a href=\"#company_size\"> Company Size </a> \n",
    "            </li>\n",
    "            <li> \n",
    "                1.10<a href=\"#company_type\"> Company Type </a> \n",
    "            </li>\n",
    "            <li> \n",
    "                1.11<a href=\"#last_new_job\"> Last New Job </a> \n",
    "            </li>\n",
    "            <li> \n",
    "                1.12<a href=\"#training_hours\"> Training Hours </a> \n",
    "            </li>\n",
    "            <li> \n",
    "                1.13<a href=\"#target\"> Target </a> \n",
    "            </li>\n",
    "            <li> \n",
    "                <a href=\"#overview\"> Overview </a> \n",
    "            </li>\n",
    "        </ul>\n",
    "    </li>\n",
    "    <li>\n",
    "        <a href=\"#statistical_inferences\"> Statistical Inferences</a>\n",
    "        <ul style=\"list-style: none;\">\n",
    "            <li>\n",
    "                2.1 <a href=\"#q1\"> Correlation between variables and job change </a>\n",
    "                <ul style=\"list-style: none;\">\n",
    "                    <li> \n",
    "                        2.1.1 <a href=\"#corr_cdi\">Correlation City Development Index </a>\n",
    "                    </li>\n",
    "                    <li> \n",
    "                        2.1.2 <a href=\"#corr_training_hours\">Correlation Training Hours </a>\n",
    "                    </li>\n",
    "                </ul>\n",
    "            </li>\n",
    "            <li> \n",
    "                2.2<a href=\"#hypothesis_one\"> Hypothesis One </a> \n",
    "                <ul style=\"list-style: none;\"> \n",
    "                    <li>\n",
    "                        2.2.1<a href=\"#hypothesis_one_result\"> Interpreting Hypothesis One Results </a> \n",
    "                    </li>\n",
    "                </ul>\n",
    "            </li>\n",
    "            <li> \n",
    "                2.3<a href=\"#hypothesis_two\"> Hypothesis Two </a> \n",
    "                <ul style=\"list-style: none;\"> \n",
    "                    <li>\n",
    "                        2.3.1<a href=\"#hypothesis_two_result\"> Hypothesis Two Results </a> \n",
    "                    </li>\n",
    "                </ul>\n",
    "            </li>\n",
    "        </ul>\n",
    "    </li>\n",
    "    <li>\n",
    "        <a href=\"#encoding\"> Encoding Features</a>\n",
    "    </li>\n",
    "    <li>\n",
    "        <a href=\"#training_models\"> Training Models</a>\n",
    "        <ul style=\"list-style: none;\">\n",
    "            <li>\n",
    "                4.1 <a href=\"#logistic_regression\"> Logistic Regression </a>\n",
    "            </li>\n",
    "            <li>\n",
    "                4.2 <a href=\"#ann\"> Neural Network </a>\n",
    "                <ul style=\"list-style: none;\">\n",
    "                    <li>4.2.1 \n",
    "                        <a href=\"#fc_ann_ohl\">Fully Connected Artificial Neural Network One Hidden Layer</a>\n",
    "                    </li>\n",
    "                    <li>4.2.2 \n",
    "                        <a href=\"#fc_ann_thl\">Fully Connected Artificial Neural Network Two Hidden Layer</a>\n",
    "                    </li>\n",
    "                    <li>4.2.3 \n",
    "                        <a href=\"#ann_ohl\">Artificial Neural Network One Hidden Layer (not fully connected)</a>\n",
    "                    </li>\n",
    "                    <li>4.2.4 \n",
    "                        <a href=\"#ann_thl\">Artificial Neural Network Two Hidden Layer (not fully connected)</a>\n",
    "                    </li>\n",
    "                    <li>4.2.5 \n",
    "                        <a href=\"#ann_thl_d\">Artificial Neural Network Two Hidden Layer with Dropout</a>\n",
    "                    </li>\n",
    "                </ul>\n",
    "            </li>\n",
    "            <li>\n",
    "                4.3 <a href=\"#tree\"> Tree Classifier </a>\n",
    "            </li>\n",
    "        </ul>\n",
    "    </li>\n",
    "    <li> \n",
    "        <a href=\"#unseen_data\"> Loading Unseen Data </a>\n",
    "    </li>\n",
    "</ol>"
   ]
  },
  {
   "cell_type": "markdown",
   "metadata": {},
   "source": [
    "[//]: # \"cell intentionally left blank.\""
   ]
  },
  {
   "cell_type": "markdown",
   "metadata": {},
   "source": [
    "### Importing libraries"
   ]
  },
  {
   "cell_type": "code",
   "execution_count": 1,
   "metadata": {},
   "outputs": [],
   "source": [
    "import pandas as pd\n",
    "import numpy as np\n",
    "import scipy\n",
    "import joblib\n",
    "\n",
    "# visualization\n",
    "import matplotlib.pyplot as plt\n",
    "import seaborn as sns\n",
    "from pywaffle import Waffle\n",
    "%matplotlib inline\n",
    "\n",
    "from sklearn.linear_model import LogisticRegression\n",
    "from sklearn.model_selection import train_test_split\n",
    "from sklearn.tree import DecisionTreeClassifier\n",
    "from sklearn import metrics\n",
    "from sklearn.preprocessing import StandardScaler\n",
    "\n",
    "import keras\n",
    "from keras import Sequential\n",
    "from keras.layers import Dense, Dropout\n",
    "import tensorflow as tf"
   ]
  },
  {
   "cell_type": "markdown",
   "metadata": {},
   "source": [
    "### Useful variables"
   ]
  },
  {
   "cell_type": "code",
   "execution_count": 2,
   "metadata": {},
   "outputs": [],
   "source": [
    "colors = sns.color_palette()\n",
    "cv_five = 5\n",
    "cv_ten = 10"
   ]
  },
  {
   "cell_type": "markdown",
   "metadata": {},
   "source": [
    "### Reading the [dataset](https://www.kaggle.com/arashnic/hr-analytics-job-change-of-data-scientists) (training)"
   ]
  },
  {
   "cell_type": "code",
   "execution_count": 3,
   "metadata": {},
   "outputs": [
    {
     "data": {
      "text/html": [
       "<div>\n",
       "<style scoped>\n",
       "    .dataframe tbody tr th:only-of-type {\n",
       "        vertical-align: middle;\n",
       "    }\n",
       "\n",
       "    .dataframe tbody tr th {\n",
       "        vertical-align: top;\n",
       "    }\n",
       "\n",
       "    .dataframe thead th {\n",
       "        text-align: right;\n",
       "    }\n",
       "</style>\n",
       "<table border=\"1\" class=\"dataframe\">\n",
       "  <thead>\n",
       "    <tr style=\"text-align: right;\">\n",
       "      <th></th>\n",
       "      <th>enrollee_id</th>\n",
       "      <th>city</th>\n",
       "      <th>city_development_index</th>\n",
       "      <th>gender</th>\n",
       "      <th>relevent_experience</th>\n",
       "      <th>enrolled_university</th>\n",
       "      <th>education_level</th>\n",
       "      <th>major_discipline</th>\n",
       "      <th>experience</th>\n",
       "      <th>company_size</th>\n",
       "      <th>company_type</th>\n",
       "      <th>last_new_job</th>\n",
       "      <th>training_hours</th>\n",
       "      <th>target</th>\n",
       "    </tr>\n",
       "  </thead>\n",
       "  <tbody>\n",
       "    <tr>\n",
       "      <th>0</th>\n",
       "      <td>8949</td>\n",
       "      <td>city_103</td>\n",
       "      <td>0.920</td>\n",
       "      <td>Male</td>\n",
       "      <td>Has relevent experience</td>\n",
       "      <td>no_enrollment</td>\n",
       "      <td>Graduate</td>\n",
       "      <td>STEM</td>\n",
       "      <td>&gt;20</td>\n",
       "      <td>NaN</td>\n",
       "      <td>NaN</td>\n",
       "      <td>1</td>\n",
       "      <td>36</td>\n",
       "      <td>1.0</td>\n",
       "    </tr>\n",
       "    <tr>\n",
       "      <th>1</th>\n",
       "      <td>29725</td>\n",
       "      <td>city_40</td>\n",
       "      <td>0.776</td>\n",
       "      <td>Male</td>\n",
       "      <td>No relevent experience</td>\n",
       "      <td>no_enrollment</td>\n",
       "      <td>Graduate</td>\n",
       "      <td>STEM</td>\n",
       "      <td>15</td>\n",
       "      <td>50-99</td>\n",
       "      <td>Pvt Ltd</td>\n",
       "      <td>&gt;4</td>\n",
       "      <td>47</td>\n",
       "      <td>0.0</td>\n",
       "    </tr>\n",
       "    <tr>\n",
       "      <th>2</th>\n",
       "      <td>11561</td>\n",
       "      <td>city_21</td>\n",
       "      <td>0.624</td>\n",
       "      <td>NaN</td>\n",
       "      <td>No relevent experience</td>\n",
       "      <td>Full time course</td>\n",
       "      <td>Graduate</td>\n",
       "      <td>STEM</td>\n",
       "      <td>5</td>\n",
       "      <td>NaN</td>\n",
       "      <td>NaN</td>\n",
       "      <td>never</td>\n",
       "      <td>83</td>\n",
       "      <td>0.0</td>\n",
       "    </tr>\n",
       "    <tr>\n",
       "      <th>3</th>\n",
       "      <td>33241</td>\n",
       "      <td>city_115</td>\n",
       "      <td>0.789</td>\n",
       "      <td>NaN</td>\n",
       "      <td>No relevent experience</td>\n",
       "      <td>NaN</td>\n",
       "      <td>Graduate</td>\n",
       "      <td>Business Degree</td>\n",
       "      <td>&lt;1</td>\n",
       "      <td>NaN</td>\n",
       "      <td>Pvt Ltd</td>\n",
       "      <td>never</td>\n",
       "      <td>52</td>\n",
       "      <td>1.0</td>\n",
       "    </tr>\n",
       "    <tr>\n",
       "      <th>4</th>\n",
       "      <td>666</td>\n",
       "      <td>city_162</td>\n",
       "      <td>0.767</td>\n",
       "      <td>Male</td>\n",
       "      <td>Has relevent experience</td>\n",
       "      <td>no_enrollment</td>\n",
       "      <td>Masters</td>\n",
       "      <td>STEM</td>\n",
       "      <td>&gt;20</td>\n",
       "      <td>50-99</td>\n",
       "      <td>Funded Startup</td>\n",
       "      <td>4</td>\n",
       "      <td>8</td>\n",
       "      <td>0.0</td>\n",
       "    </tr>\n",
       "  </tbody>\n",
       "</table>\n",
       "</div>"
      ],
      "text/plain": [
       "   enrollee_id      city  city_development_index gender  \\\n",
       "0         8949  city_103                   0.920   Male   \n",
       "1        29725   city_40                   0.776   Male   \n",
       "2        11561   city_21                   0.624    NaN   \n",
       "3        33241  city_115                   0.789    NaN   \n",
       "4          666  city_162                   0.767   Male   \n",
       "\n",
       "       relevent_experience enrolled_university education_level  \\\n",
       "0  Has relevent experience       no_enrollment        Graduate   \n",
       "1   No relevent experience       no_enrollment        Graduate   \n",
       "2   No relevent experience    Full time course        Graduate   \n",
       "3   No relevent experience                 NaN        Graduate   \n",
       "4  Has relevent experience       no_enrollment         Masters   \n",
       "\n",
       "  major_discipline experience company_size    company_type last_new_job  \\\n",
       "0             STEM        >20          NaN             NaN            1   \n",
       "1             STEM         15        50-99         Pvt Ltd           >4   \n",
       "2             STEM          5          NaN             NaN        never   \n",
       "3  Business Degree         <1          NaN         Pvt Ltd        never   \n",
       "4             STEM        >20        50-99  Funded Startup            4   \n",
       "\n",
       "   training_hours  target  \n",
       "0              36     1.0  \n",
       "1              47     0.0  \n",
       "2              83     0.0  \n",
       "3              52     1.0  \n",
       "4               8     0.0  "
      ]
     },
     "execution_count": 3,
     "metadata": {},
     "output_type": "execute_result"
    }
   ],
   "source": [
    "df_train = pd.read_csv(\"./datasets/aug_train.csv\")\n",
    "df_train.head()"
   ]
  },
  {
   "cell_type": "code",
   "execution_count": 4,
   "metadata": {},
   "outputs": [
    {
     "data": {
      "text/plain": [
       "(19158, 14)"
      ]
     },
     "execution_count": 4,
     "metadata": {},
     "output_type": "execute_result"
    }
   ],
   "source": [
    "df_train.shape"
   ]
  },
  {
   "cell_type": "markdown",
   "metadata": {},
   "source": [
    "<a id=\"understanding_data\"> </a>"
   ]
  },
  {
   "cell_type": "markdown",
   "metadata": {},
   "source": [
    "# 1. Understanding Data"
   ]
  },
  {
   "cell_type": "code",
   "execution_count": 5,
   "metadata": {},
   "outputs": [
    {
     "data": {
      "text/html": [
       "<div>\n",
       "<style scoped>\n",
       "    .dataframe tbody tr th:only-of-type {\n",
       "        vertical-align: middle;\n",
       "    }\n",
       "\n",
       "    .dataframe tbody tr th {\n",
       "        vertical-align: top;\n",
       "    }\n",
       "\n",
       "    .dataframe thead th {\n",
       "        text-align: right;\n",
       "    }\n",
       "</style>\n",
       "<table border=\"1\" class=\"dataframe\">\n",
       "  <thead>\n",
       "    <tr style=\"text-align: right;\">\n",
       "      <th></th>\n",
       "      <th>enrollee_id</th>\n",
       "      <th>city_development_index</th>\n",
       "      <th>training_hours</th>\n",
       "      <th>target</th>\n",
       "    </tr>\n",
       "  </thead>\n",
       "  <tbody>\n",
       "    <tr>\n",
       "      <th>count</th>\n",
       "      <td>19158.000000</td>\n",
       "      <td>19158.000000</td>\n",
       "      <td>19158.000000</td>\n",
       "      <td>19158.000000</td>\n",
       "    </tr>\n",
       "    <tr>\n",
       "      <th>mean</th>\n",
       "      <td>16875.358179</td>\n",
       "      <td>0.828848</td>\n",
       "      <td>65.366896</td>\n",
       "      <td>0.249348</td>\n",
       "    </tr>\n",
       "    <tr>\n",
       "      <th>std</th>\n",
       "      <td>9616.292592</td>\n",
       "      <td>0.123362</td>\n",
       "      <td>60.058462</td>\n",
       "      <td>0.432647</td>\n",
       "    </tr>\n",
       "    <tr>\n",
       "      <th>min</th>\n",
       "      <td>1.000000</td>\n",
       "      <td>0.448000</td>\n",
       "      <td>1.000000</td>\n",
       "      <td>0.000000</td>\n",
       "    </tr>\n",
       "    <tr>\n",
       "      <th>25%</th>\n",
       "      <td>8554.250000</td>\n",
       "      <td>0.740000</td>\n",
       "      <td>23.000000</td>\n",
       "      <td>0.000000</td>\n",
       "    </tr>\n",
       "    <tr>\n",
       "      <th>50%</th>\n",
       "      <td>16982.500000</td>\n",
       "      <td>0.903000</td>\n",
       "      <td>47.000000</td>\n",
       "      <td>0.000000</td>\n",
       "    </tr>\n",
       "    <tr>\n",
       "      <th>75%</th>\n",
       "      <td>25169.750000</td>\n",
       "      <td>0.920000</td>\n",
       "      <td>88.000000</td>\n",
       "      <td>0.000000</td>\n",
       "    </tr>\n",
       "    <tr>\n",
       "      <th>max</th>\n",
       "      <td>33380.000000</td>\n",
       "      <td>0.949000</td>\n",
       "      <td>336.000000</td>\n",
       "      <td>1.000000</td>\n",
       "    </tr>\n",
       "  </tbody>\n",
       "</table>\n",
       "</div>"
      ],
      "text/plain": [
       "        enrollee_id  city_development_index  training_hours        target\n",
       "count  19158.000000            19158.000000    19158.000000  19158.000000\n",
       "mean   16875.358179                0.828848       65.366896      0.249348\n",
       "std     9616.292592                0.123362       60.058462      0.432647\n",
       "min        1.000000                0.448000        1.000000      0.000000\n",
       "25%     8554.250000                0.740000       23.000000      0.000000\n",
       "50%    16982.500000                0.903000       47.000000      0.000000\n",
       "75%    25169.750000                0.920000       88.000000      0.000000\n",
       "max    33380.000000                0.949000      336.000000      1.000000"
      ]
     },
     "execution_count": 5,
     "metadata": {},
     "output_type": "execute_result"
    }
   ],
   "source": [
    "df_train.describe()"
   ]
  },
  {
   "cell_type": "markdown",
   "metadata": {},
   "source": [
    "<a id=\"city\"> </a>"
   ]
  },
  {
   "cell_type": "markdown",
   "metadata": {},
   "source": [
    "### 1.1 City"
   ]
  },
  {
   "cell_type": "code",
   "execution_count": 6,
   "metadata": {},
   "outputs": [
    {
     "data": {
      "text/plain": [
       "False"
      ]
     },
     "execution_count": 6,
     "metadata": {},
     "output_type": "execute_result"
    }
   ],
   "source": [
    "df_train[\"city\"].isna().any()"
   ]
  },
  {
   "cell_type": "code",
   "execution_count": 7,
   "metadata": {},
   "outputs": [
    {
     "data": {
      "text/plain": [
       "city_103    4355\n",
       "city_21     2702\n",
       "city_16     1533\n",
       "city_114    1336\n",
       "city_160     845\n",
       "            ... \n",
       "city_121       3\n",
       "city_129       3\n",
       "city_111       3\n",
       "city_140       1\n",
       "city_171       1\n",
       "Name: city, Length: 123, dtype: int64"
      ]
     },
     "execution_count": 7,
     "metadata": {},
     "output_type": "execute_result"
    }
   ],
   "source": [
    "value_counts = df_train[\"city\"].value_counts()\n",
    "value_counts"
   ]
  },
  {
   "cell_type": "markdown",
   "metadata": {},
   "source": [
    "#### The 5 most recurrents cities where candidates lives"
   ]
  },
  {
   "cell_type": "code",
   "execution_count": 8,
   "metadata": {},
   "outputs": [
    {
     "data": {
      "image/png": "[encoded data removed]",
      "text/plain": [
       "<Figure size 1080x504 with 2 Axes>"
      ]
     },
     "metadata": {
      "needs_background": "light"
     },
     "output_type": "display_data"
    }
   ],
   "source": [
    "fig, (ax1, ax2) = plt.subplots(1,2,figsize=(15,7))\n",
    "five_cities_count = value_counts[:5]\n",
    "five_cities_labels = df_train[\"city\"][:5]\n",
    "\n",
    "ax1.bar(height=five_cities_count, x=five_cities_labels, color=colors)\n",
    "five_cities_count.plot(ax=ax1, color=\"red\", label=\"Difference of recurrence\")\n",
    "ax1.legend()\n",
    "\n",
    "wedges, texts, autotexts = ax2.pie(x=five_cities_count, autopct='%1.2f%%', textprops=dict(color=\"w\"), explode=[0.03]*5)\n",
    "ax2.legend(wedges, five_cities_labels,\n",
    "          title=\"Cities\",\n",
    "          loc=\"center left\",\n",
    "          bbox_to_anchor=(1, 0, 0.5, 1))\n",
    "plt.title(\"5 most recurrents city where candidates lives\", fontsize=14)\n",
    "plt.tight_layout()"
   ]
  },
  {
   "cell_type": "markdown",
   "metadata": {},
   "source": [
    "As we can see, there are some cities that are highly more recurrent than others. In example, the first city (city_103) is more than 4 times recurrent than the fifth city (city_160)"
   ]
  },
  {
   "cell_type": "markdown",
   "metadata": {},
   "source": [
    "<a id=\"cdi\"></a>"
   ]
  },
  {
   "cell_type": "markdown",
   "metadata": {},
   "source": [
    "### 1.2 City Development Index"
   ]
  },
  {
   "cell_type": "code",
   "execution_count": 9,
   "metadata": {},
   "outputs": [
    {
     "data": {
      "text/plain": [
       "False"
      ]
     },
     "execution_count": 9,
     "metadata": {},
     "output_type": "execute_result"
    }
   ],
   "source": [
    "df_train[\"city_development_index\"].isna().any()"
   ]
  },
  {
   "cell_type": "code",
   "execution_count": 10,
   "metadata": {},
   "outputs": [
    {
     "data": {
      "text/plain": [
       "Text(0.5, 1.0, 'City Development Index Distribution')"
      ]
     },
     "execution_count": 10,
     "metadata": {},
     "output_type": "execute_result"
    },
    {
     "data": {
      "image/png": "[encoded data removed]",
      "text/plain": [
       "<Figure size 720x288 with 1 Axes>"
      ]
     },
     "metadata": {
      "needs_background": "light"
     },
     "output_type": "display_data"
    }
   ],
   "source": [
    "plt.figure(figsize=(10,4))\n",
    "sns.histplot(df_train[\"city_development_index\"])\n",
    "plt.title(\"City Development Index Distribution\")"
   ]
  },
  {
   "cell_type": "code",
   "execution_count": 11,
   "metadata": {},
   "outputs": [
    {
     "data": {
      "text/plain": [
       "Text(0.5, 1.0, 'City Development Index Distribution')"
      ]
     },
     "execution_count": 11,
     "metadata": {},
     "output_type": "execute_result"
    },
    {
     "data": {
      "image/png": "[encoded data removed]",
      "text/plain": [
       "<Figure size 720x288 with 1 Axes>"
      ]
     },
     "metadata": {
      "needs_background": "light"
     },
     "output_type": "display_data"
    }
   ],
   "source": [
    "plt.figure(figsize=(10,4))\n",
    "sns.boxplot(data=df_train[\"city_development_index\"], orient=\"h\", color=colors[2])\n",
    "plt.title(\"City Development Index Distribution\")"
   ]
  },
  {
   "cell_type": "markdown",
   "metadata": {},
   "source": [
    "The city developmente index distribution has not a defined shape. Is not a normal distribution and have some notable peaks in ~0.6 and a higher one in ~0.9. Also, some outliers are seen telling us  that are some cities which are very underdeveloped. But more of the cities fall in > 0.5, meaning that are relativily developed."
   ]
  },
  {
   "cell_type": "code",
   "execution_count": 12,
   "metadata": {},
   "outputs": [
    {
     "name": "stdout",
     "output_type": "stream",
     "text": [
      "The cities with less development index (0.448) are = 17\n",
      "The cities with the highest development index (0.949) are = 79\n"
     ]
    }
   ],
   "source": [
    "min_dev_idx = df_train[\"city_development_index\"].min()\n",
    "max_dev_idx = df_train[\"city_development_index\"].max()\n",
    "print(\"The cities with less development index ({}) are = {}\".format(min_dev_idx, df_train[df_train[\"city_development_index\"] == min_dev_idx].shape[0]))\n",
    "print(\"The cities with the highest development index ({}) are = {}\".format(max_dev_idx, df_train[df_train[\"city_development_index\"] == max_dev_idx].shape[0]))"
   ]
  },
  {
   "cell_type": "markdown",
   "metadata": {},
   "source": [
    "The numbers above tell us (again) that are more developed cities than undeveloped"
   ]
  },
  {
   "cell_type": "markdown",
   "metadata": {},
   "source": [
    "#### The 5 most recurrents cities and the index development\n",
    "\n",
    "We are gonna analyze the city development index of the 5 most recurrents cities where the candidates lives in "
   ]
  },
  {
   "cell_type": "code",
   "execution_count": 13,
   "metadata": {},
   "outputs": [
    {
     "data": {
      "text/plain": [
       "(10771, 14)"
      ]
     },
     "execution_count": 13,
     "metadata": {},
     "output_type": "execute_result"
    }
   ],
   "source": [
    "five_cities_names = five_cities_count.index.values\n",
    "five_cities_df = df_train[df_train[\"city\"].isin(five_cities_names)]\n",
    "five_cities_df.shape"
   ]
  },
  {
   "cell_type": "code",
   "execution_count": 14,
   "metadata": {},
   "outputs": [
    {
     "data": {
      "text/plain": [
       "Text(0.5, 1.0, \"Index development distribution of the 5 most 'famous' cities within candidates\")"
      ]
     },
     "execution_count": 14,
     "metadata": {},
     "output_type": "execute_result"
    },
    {
     "data": {
      "image/png": "[encoded data removed]",
      "text/plain": [
       "<Figure size 432x288 with 1 Axes>"
      ]
     },
     "metadata": {
      "needs_background": "light"
     },
     "output_type": "display_data"
    }
   ],
   "source": [
    "five_cities_df[\"city_development_index\"].hist()\n",
    "plt.title(\"Index development distribution of the 5 most 'famous' cities within candidates\")"
   ]
  },
  {
   "cell_type": "markdown",
   "metadata": {},
   "source": [
    "<a id=\"gender\"></a>"
   ]
  },
  {
   "cell_type": "markdown",
   "metadata": {},
   "source": [
    "### 1.3 Gender"
   ]
  },
  {
   "cell_type": "code",
   "execution_count": 15,
   "metadata": {},
   "outputs": [
    {
     "data": {
      "text/plain": [
       "True"
      ]
     },
     "execution_count": 15,
     "metadata": {},
     "output_type": "execute_result"
    }
   ],
   "source": [
    "df_train[\"gender\"].isna().any()"
   ]
  },
  {
   "cell_type": "code",
   "execution_count": 16,
   "metadata": {},
   "outputs": [
    {
     "data": {
      "text/plain": [
       "4508"
      ]
     },
     "execution_count": 16,
     "metadata": {},
     "output_type": "execute_result"
    }
   ],
   "source": [
    "df_train[df_train[\"gender\"].isna()].shape[0]"
   ]
  },
  {
   "cell_type": "markdown",
   "metadata": {},
   "source": [
    "There are 4508 NaN values in the gender, for this case cause there are a lot of missing values, we are gonna consider them as unknown values"
   ]
  },
  {
   "cell_type": "code",
   "execution_count": 17,
   "metadata": {},
   "outputs": [
    {
     "data": {
      "text/plain": [
       "Text(0.5, 1.0, 'Pie of gender percentage')"
      ]
     },
     "execution_count": 17,
     "metadata": {},
     "output_type": "execute_result"
    },
    {
     "data": {
      "image/png": "[encoded data removed]",
      "text/plain": [
       "<Figure size 648x648 with 1 Axes>"
      ]
     },
     "metadata": {},
     "output_type": "display_data"
    }
   ],
   "source": [
    "df_train[\"gender\"].value_counts().plot(kind=\"pie\", colors=[colors[0], colors[6], colors[3]], autopct='%1.2f%%', figsize=(9,9), explode=[0, 0.1,0])\n",
    "plt.title(\"Pie of gender percentage\")"
   ]
  },
  {
   "cell_type": "markdown",
   "metadata": {},
   "source": [
    "The difference between gender is notable. 90% of the candidates are males and just a 9% (aprox) are females"
   ]
  },
  {
   "cell_type": "markdown",
   "metadata": {},
   "source": [
    "<a id=\"relevant_exp\"></a>"
   ]
  },
  {
   "cell_type": "markdown",
   "metadata": {},
   "source": [
    "### 1.4 Relevant Experience"
   ]
  },
  {
   "cell_type": "code",
   "execution_count": 18,
   "metadata": {},
   "outputs": [],
   "source": [
    "relevant_exp = df_train[\"relevent_experience\"]"
   ]
  },
  {
   "cell_type": "code",
   "execution_count": 19,
   "metadata": {},
   "outputs": [
    {
     "data": {
      "text/plain": [
       "False"
      ]
     },
     "execution_count": 19,
     "metadata": {},
     "output_type": "execute_result"
    }
   ],
   "source": [
    "relevant_exp.isna().any()"
   ]
  },
  {
   "cell_type": "code",
   "execution_count": 20,
   "metadata": {},
   "outputs": [
    {
     "data": {
      "text/plain": [
       "array(['Has relevent experience', 'No relevent experience'], dtype=object)"
      ]
     },
     "execution_count": 20,
     "metadata": {},
     "output_type": "execute_result"
    }
   ],
   "source": [
    "relevant_exp.unique()"
   ]
  },
  {
   "cell_type": "code",
   "execution_count": 21,
   "metadata": {},
   "outputs": [
    {
     "data": {
      "text/plain": [
       "Has relevent experience    13792\n",
       "No relevent experience      5366\n",
       "Name: relevent_experience, dtype: int64"
      ]
     },
     "execution_count": 21,
     "metadata": {},
     "output_type": "execute_result"
    }
   ],
   "source": [
    "relevant_exp.value_counts()"
   ]
  },
  {
   "cell_type": "markdown",
   "metadata": {},
   "source": [
    "As we can see, there are more candidates with a strongly previous experience than the ones that does not have experience"
   ]
  },
  {
   "cell_type": "code",
   "execution_count": 22,
   "metadata": {},
   "outputs": [
    {
     "data": {
      "text/plain": [
       "Text(0.5, 1.0, 'Candidates with experience vs without experience')"
      ]
     },
     "execution_count": 22,
     "metadata": {},
     "output_type": "execute_result"
    },
    {
     "data": {
      "image/png": "[encoded data removed]",
      "text/plain": [
       "<Figure size 432x288 with 1 Axes>"
      ]
     },
     "metadata": {},
     "output_type": "display_data"
    }
   ],
   "source": [
    "relevant_exp.value_counts().plot(kind=\"pie\", colors=colors)\n",
    "plt.ylabel(\"\")\n",
    "plt.title(\"Candidates with experience vs without experience\")"
   ]
  },
  {
   "cell_type": "markdown",
   "metadata": {},
   "source": [
    "<a id=\"enrrolled_univ\"> </a>"
   ]
  },
  {
   "cell_type": "markdown",
   "metadata": {},
   "source": [
    "### 1.5 Enrrolled University"
   ]
  },
  {
   "cell_type": "code",
   "execution_count": 23,
   "metadata": {},
   "outputs": [
    {
     "data": {
      "text/plain": [
       "False    18772\n",
       "True       386\n",
       "Name: enrolled_university, dtype: int64"
      ]
     },
     "execution_count": 23,
     "metadata": {},
     "output_type": "execute_result"
    }
   ],
   "source": [
    "enrrolled_univ = df_train[\"enrolled_university\"]\n",
    "enrrolled_univ.isna().value_counts()"
   ]
  },
  {
   "cell_type": "code",
   "execution_count": 24,
   "metadata": {},
   "outputs": [
    {
     "data": {
      "text/plain": [
       "array(['no_enrollment', 'Full time course', nan, 'Part time course'],\n",
       "      dtype=object)"
      ]
     },
     "execution_count": 24,
     "metadata": {},
     "output_type": "execute_result"
    }
   ],
   "source": [
    "enrrolled_univ.unique()"
   ]
  },
  {
   "cell_type": "code",
   "execution_count": 25,
   "metadata": {},
   "outputs": [
    {
     "data": {
      "image/png": "[encoded data removed]",
      "text/plain": [
       "<Waffle size 648x504 with 1 Axes>"
      ]
     },
     "metadata": {
      "needs_background": "light"
     },
     "output_type": "display_data"
    }
   ],
   "source": [
    "d = enrrolled_univ.value_counts()\n",
    "d_la = d.index.values\n",
    "\n",
    "fig = plt.figure(\n",
    "    FigureClass=Waffle,\n",
    "    rows=5, \n",
    "    columns=10,\n",
    "    values=d,\n",
    "    figsize=(9, 7),\n",
    "    labels=list(d_la),\n",
    "    legend={'loc': 'center left', \"bbox_to_anchor\":(1, 0, 0.5, 1), \"title\": \"Enrrollment type\"}\n",
    ")\n",
    "plt.title(\"Enrrolled University\")\n",
    "plt.show()"
   ]
  },
  {
   "cell_type": "markdown",
   "metadata": {},
   "source": [
    "The avobe waffle chart tell us that most of the candidates aren't enrolled in any university, and the ones that they are, mostly are in a full time course instead than a part time"
   ]
  },
  {
   "cell_type": "markdown",
   "metadata": {},
   "source": [
    "<a id=\"education_level\"></a>"
   ]
  },
  {
   "cell_type": "markdown",
   "metadata": {},
   "source": [
    "### 1.6 Education Level"
   ]
  },
  {
   "cell_type": "code",
   "execution_count": 26,
   "metadata": {},
   "outputs": [
    {
     "data": {
      "text/plain": [
       "True"
      ]
     },
     "execution_count": 26,
     "metadata": {},
     "output_type": "execute_result"
    }
   ],
   "source": [
    "ed_lvl = df_train[\"education_level\"]\n",
    "ed_lvl.isna().any()"
   ]
  },
  {
   "cell_type": "code",
   "execution_count": 27,
   "metadata": {},
   "outputs": [
    {
     "data": {
      "image/png": "[encoded data removed]",
      "text/plain": [
       "<Figure size 1080x504 with 1 Axes>"
      ]
     },
     "metadata": {},
     "output_type": "display_data"
    }
   ],
   "source": [
    "fig, ax = plt.subplots(figsize=(15, 7), subplot_kw=dict(aspect=\"equal\"))\n",
    "\n",
    "recipe = ed_lvl.dropna().unique()\n",
    "\n",
    "data = ed_lvl.value_counts()\n",
    "\n",
    "wedges, texts = ax.pie(data, wedgeprops=dict(width=0.5), startangle=-40)\n",
    "\n",
    "bbox_props = dict(boxstyle=\"square,pad=0.3\", fc=\"w\", ec=\"k\", lw=0.72)\n",
    "kw = dict(arrowprops=dict(arrowstyle=\"-\"),\n",
    "          bbox=bbox_props, zorder=0, va=\"center\")\n",
    "\n",
    "for i, p in enumerate(wedges):\n",
    "    ang = (p.theta2 - p.theta1)/2.0 + p.theta1\n",
    "    y = np.sin(np.deg2rad(ang))\n",
    "    x = np.cos(np.deg2rad(ang))\n",
    "    horizontalalignment = {-1: \"right\", 1: \"left\"}[int(np.sign(x))]\n",
    "    connectionstyle = \"angle,angleA=0,angleB={}\".format(ang)\n",
    "    kw[\"arrowprops\"].update({\"connectionstyle\": connectionstyle})\n",
    "    ax.annotate(recipe[i], xy=(x, y), xytext=(1.35*np.sign(x), 1.4*y),\n",
    "                horizontalalignment=horizontalalignment, **kw)\n",
    "\n",
    "ax.set_title(\"Education Level Proportions\", loc=\"left\")\n",
    "\n",
    "plt.show()"
   ]
  },
  {
   "cell_type": "markdown",
   "metadata": {},
   "source": [
    "The above donought tell us that the majority of candidates are graduateds, but there is a big number of candidates which have a master degree. Also, few candidates didn't go to high school and others have a PHd"
   ]
  },
  {
   "cell_type": "markdown",
   "metadata": {},
   "source": [
    "<a id=\"major_discipline\"></a>"
   ]
  },
  {
   "cell_type": "markdown",
   "metadata": {},
   "source": [
    "### 1.7 Major discipline"
   ]
  },
  {
   "cell_type": "markdown",
   "metadata": {},
   "source": [
    "Let's watch which field of study is the most common between candidates. Probably the scientific one is the most frequently."
   ]
  },
  {
   "cell_type": "code",
   "execution_count": 28,
   "metadata": {},
   "outputs": [
    {
     "data": {
      "text/plain": [
       "array(['STEM', 'Business Degree', nan, 'Arts', 'Humanities', 'No Major',\n",
       "       'Other'], dtype=object)"
      ]
     },
     "execution_count": 28,
     "metadata": {},
     "output_type": "execute_result"
    }
   ],
   "source": [
    "major_dis = df_train[\"major_discipline\"]\n",
    "major_dis.unique()"
   ]
  },
  {
   "cell_type": "code",
   "execution_count": 29,
   "metadata": {},
   "outputs": [
    {
     "data": {
      "text/plain": [
       "Text(0.5, 1.0, 'Major Discipline')"
      ]
     },
     "execution_count": 29,
     "metadata": {},
     "output_type": "execute_result"
    },
    {
     "data": {
      "image/png": "[encoded data removed]",
      "text/plain": [
       "<Figure size 432x288 with 1 Axes>"
      ]
     },
     "metadata": {
      "needs_background": "light"
     },
     "output_type": "display_data"
    }
   ],
   "source": [
    "major_dis.value_counts().plot(kind=\"bar\")\n",
    "plt.title(\"Major Discipline\")"
   ]
  },
  {
   "cell_type": "markdown",
   "metadata": {},
   "source": [
    "As predicted, STEM (Science, technology, engineering, and mathematics) is the major field where most of candidates studied"
   ]
  },
  {
   "cell_type": "markdown",
   "metadata": {},
   "source": [
    "<a id=\"experience\"></a>"
   ]
  },
  {
   "cell_type": "markdown",
   "metadata": {},
   "source": [
    "### 1.8 Experience"
   ]
  },
  {
   "cell_type": "markdown",
   "metadata": {},
   "source": [
    "Visualizing the bins of the years of experience we are gonna understand the peaks in experience within candidates."
   ]
  },
  {
   "cell_type": "code",
   "execution_count": 30,
   "metadata": {},
   "outputs": [
    {
     "data": {
      "text/plain": [
       "Text(0, 0.5, 'N° Candidates')"
      ]
     },
     "execution_count": 30,
     "metadata": {},
     "output_type": "execute_result"
    },
    {
     "data": {
      "image/png": "[encoded data removed]",
      "text/plain": [
       "<Figure size 1080x360 with 1 Axes>"
      ]
     },
     "metadata": {
      "needs_background": "light"
     },
     "output_type": "display_data"
    }
   ],
   "source": [
    "df_train[\"experience\"].value_counts().plot(kind=\"bar\", color=colors, figsize=(15,5))\n",
    "plt.title(\"Experience (years)\")\n",
    "plt.xlabel(\"Years\", fontsize=12)\n",
    "plt.ylabel(\"N° Candidates\", fontsize=12)"
   ]
  },
  {
   "cell_type": "markdown",
   "metadata": {},
   "source": [
    "As we see, most candidates have a long experience of more than 20 years."
   ]
  },
  {
   "cell_type": "markdown",
   "metadata": {},
   "source": [
    "<a id=\"company_size\"></a>"
   ]
  },
  {
   "cell_type": "markdown",
   "metadata": {},
   "source": [
    "### 1.9 Company size"
   ]
  },
  {
   "cell_type": "code",
   "execution_count": 31,
   "metadata": {},
   "outputs": [
    {
     "data": {
      "text/plain": [
       "array([nan, '50-99', '<10', '10000+', '5000-9999', '1000-4999', '10/49',\n",
       "       '100-500', '500-999'], dtype=object)"
      ]
     },
     "execution_count": 31,
     "metadata": {},
     "output_type": "execute_result"
    }
   ],
   "source": [
    "df_train[\"company_size\"].unique()"
   ]
  },
  {
   "cell_type": "code",
   "execution_count": 32,
   "metadata": {},
   "outputs": [
    {
     "data": {
      "text/plain": [
       "Text(0.5, 1.0, 'Company Size')"
      ]
     },
     "execution_count": 32,
     "metadata": {},
     "output_type": "execute_result"
    },
    {
     "data": {
      "image/png": "[encoded data removed]",
      "text/plain": [
       "<Figure size 576x648 with 1 Axes>"
      ]
     },
     "metadata": {},
     "output_type": "display_data"
    }
   ],
   "source": [
    "df_train[\"company_size\"].value_counts().plot(kind=\"pie\", figsize=(8,9), colors=sns.color_palette(\"YlOrBr_r\"), explode=[0.1] + [0]*7, autopct=\"%1.2f%%\")\n",
    "plt.ylabel(\"\")\n",
    "plt.title(\"Company Size\")"
   ]
  },
  {
   "cell_type": "markdown",
   "metadata": {},
   "source": [
    "As we see above, there are not big difference in the quantity of candidates which actually work in companies of 50-99, 100-500 or more than 10000 employees."
   ]
  },
  {
   "cell_type": "markdown",
   "metadata": {},
   "source": [
    "<a id=\"company_type\"></a>"
   ]
  },
  {
   "cell_type": "markdown",
   "metadata": {},
   "source": [
    "### 1.10 Company Type"
   ]
  },
  {
   "cell_type": "code",
   "execution_count": 33,
   "metadata": {},
   "outputs": [
    {
     "data": {
      "text/plain": [
       "Text(0.5, 1.0, 'Company type')"
      ]
     },
     "execution_count": 33,
     "metadata": {},
     "output_type": "execute_result"
    },
    {
     "data": {
      "image/png": "[encoded data removed]",
      "text/plain": [
       "<Figure size 648x432 with 1 Axes>"
      ]
     },
     "metadata": {
      "needs_background": "light"
     },
     "output_type": "display_data"
    }
   ],
   "source": [
    "df_train[\"company_type\"].value_counts().plot(kind=\"bar\", figsize=(9,6))\n",
    "plt.title(\"Company type\")"
   ]
  },
  {
   "cell_type": "markdown",
   "metadata": {},
   "source": [
    "Most companies where candidates work are Private limited company (Pvt Ltd)"
   ]
  },
  {
   "cell_type": "markdown",
   "metadata": {},
   "source": [
    "<a id=\"last_new_job\"></a>"
   ]
  },
  {
   "cell_type": "markdown",
   "metadata": {},
   "source": [
    "### 1.11 Last New Job"
   ]
  },
  {
   "cell_type": "code",
   "execution_count": 34,
   "metadata": {},
   "outputs": [
    {
     "data": {
      "image/png": "[encoded data removed]",
      "text/plain": [
       "<Waffle size 648x504 with 1 Axes>"
      ]
     },
     "metadata": {
      "needs_background": "light"
     },
     "output_type": "display_data"
    }
   ],
   "source": [
    "d = df_train[\"last_new_job\"].value_counts()\n",
    "d_la = d.index.values\n",
    "\n",
    "fig = plt.figure(\n",
    "    FigureClass=Waffle,\n",
    "    rows=5, \n",
    "    columns=10,\n",
    "    values=d,\n",
    "    figsize=(9, 7),\n",
    "    labels=list(d_la),\n",
    "    colors=sns.color_palette(\"icefire\"),\n",
    "    legend={'loc': 'center left', \"bbox_to_anchor\":(1, 0, 0.5, 1), \"title\": \"Enrrollment type\"},\n",
    "    block_arranging_style=\"new-line\"\n",
    ")\n",
    "plt.title(\"Last new job\")\n",
    "plt.show()"
   ]
  },
  {
   "cell_type": "markdown",
   "metadata": {},
   "source": [
    "Most candidates have only around 1 year working in their current job."
   ]
  },
  {
   "cell_type": "markdown",
   "metadata": {},
   "source": [
    "<a id=\"training_hours\"></a>"
   ]
  },
  {
   "cell_type": "markdown",
   "metadata": {},
   "source": [
    "### 1.12 Training hours\n",
    "\n",
    "We are gonna to understand the distribution of the hours that the candidates trained"
   ]
  },
  {
   "cell_type": "code",
   "execution_count": 35,
   "metadata": {},
   "outputs": [
    {
     "data": {
      "text/plain": [
       "0    36\n",
       "1    47\n",
       "2    83\n",
       "3    52\n",
       "4     8\n",
       "Name: training_hours, dtype: int64"
      ]
     },
     "execution_count": 35,
     "metadata": {},
     "output_type": "execute_result"
    }
   ],
   "source": [
    "train_hours = df_train[\"training_hours\"]\n",
    "train_hours.head()"
   ]
  },
  {
   "cell_type": "code",
   "execution_count": 36,
   "metadata": {},
   "outputs": [
    {
     "data": {
      "text/plain": [
       "Text(0.5, 1.0, 'Hours training distribution')"
      ]
     },
     "execution_count": 36,
     "metadata": {},
     "output_type": "execute_result"
    },
    {
     "data": {
      "image/png": "[encoded data removed]",
      "text/plain": [
       "<Figure size 1080x432 with 1 Axes>"
      ]
     },
     "metadata": {
      "needs_background": "light"
     },
     "output_type": "display_data"
    }
   ],
   "source": [
    "fig, ax = plt.subplots(figsize=(15,6))\n",
    "sns.histplot(train_hours, color=colors[0], stat='density')\n",
    "plt.vlines(x=train_hours.mean(), ymin=0, ymax=0.015, color=colors[1], label=r\"$\\mu$ = {}\".format(np.round(train_hours.mean(), 2)))\n",
    "plt.vlines(x=train_hours.median(), ymin=0, ymax=0.015, color=colors[3], label=r\"Median = {}\".format(np.round(train_hours.median(), 2)))\n",
    "plt.legend()\n",
    "plt.title(\"Hours training distribution\")"
   ]
  },
  {
   "cell_type": "markdown",
   "metadata": {},
   "source": [
    "The above histogram tell us that most candidates did around 25-50 hours of training, however there are some candidates which did almost 350 hours and that is the cause that why the mean is greater than 60. The above chart is a non-normal distribution, with a peak in around 25 hours and a huge right skew, telling us that are some candidates that did a lot more ours than the average."
   ]
  },
  {
   "cell_type": "code",
   "execution_count": 37,
   "metadata": {},
   "outputs": [
    {
     "data": {
      "text/plain": [
       "Text(0.5, 1.0, 'Training hours distribution - Boxplot')"
      ]
     },
     "execution_count": 37,
     "metadata": {},
     "output_type": "execute_result"
    },
    {
     "data": {
      "image/png": "[encoded data removed]",
      "text/plain": [
       "<Figure size 720x288 with 2 Axes>"
      ]
     },
     "metadata": {
      "needs_background": "light"
     },
     "output_type": "display_data"
    }
   ],
   "source": [
    "fig, (ax1, ax2) = plt.subplots(1,2, figsize=(10,4))\n",
    "sns.violinplot(x=train_hours, ax=ax2, color=colors[2])\n",
    "sns.boxplot(data=train_hours, ax=ax1, color=colors[4])\n",
    "\n",
    "ax2.set_title(\"Training hours distribution - Violinplot\")\n",
    "ax2.set_xlabel(\"Hours\")\n",
    "ax1.set_ylabel(\"Hours\")\n",
    "ax1.set_title(\"Training hours distribution - Boxplot\")"
   ]
  },
  {
   "cell_type": "markdown",
   "metadata": {},
   "source": [
    "<a id=\"target\"></a>"
   ]
  },
  {
   "cell_type": "markdown",
   "metadata": {},
   "source": [
    "### 1.13 Target"
   ]
  },
  {
   "cell_type": "code",
   "execution_count": 38,
   "metadata": {},
   "outputs": [
    {
     "data": {
      "text/plain": [
       "0.0    14381\n",
       "1.0     4777\n",
       "Name: target, dtype: int64"
      ]
     },
     "execution_count": 38,
     "metadata": {},
     "output_type": "execute_result"
    }
   ],
   "source": [
    "df_train.target.value_counts()"
   ]
  },
  {
   "cell_type": "code",
   "execution_count": 39,
   "metadata": {},
   "outputs": [
    {
     "data": {
      "text/plain": [
       "<AxesSubplot:ylabel='target'>"
      ]
     },
     "execution_count": 39,
     "metadata": {},
     "output_type": "execute_result"
    },
    {
     "data": {
      "image/png": "[encoded data removed]",
      "text/plain": [
       "<Figure size 432x288 with 1 Axes>"
      ]
     },
     "metadata": {},
     "output_type": "display_data"
    }
   ],
   "source": [
    "df_train.target.value_counts().plot(kind=\"pie\", colors=colors[3:5], autopct=\"%1.2f%%\")"
   ]
  },
  {
   "cell_type": "markdown",
   "metadata": {},
   "source": [
    "<a id=\"overview\"></a>"
   ]
  },
  {
   "cell_type": "markdown",
   "metadata": {},
   "source": [
    "### Overview\n",
    "\n",
    "We already analized each variable in our dataset, so at this point we know a lot about the candidates. We are gonna make a overview about the data of them. "
   ]
  },
  {
   "cell_type": "markdown",
   "metadata": {},
   "source": [
    "We have a dataset of 19158 candidates. More than a half of these candidates (10771) are living in just five differents **cities**, where city_103 is the most popular one. The majority of cities where they live have a **development index** between 0.6 and 0.9, and most of them fall in the extrems.\n",
    "The stratification of **gender** is notable, where ~90% of the candidates are males and just a ~9% females. 13792 of the data scientists in the whole dataset have **relevant experience**, meaning that approximatly %28 of the samples does not have relevant experience, and %72 does. As **university enrrolment** we can notice that 72% are not enrolled, when almost the 20% are enrolled in a full time course and only a 6% in a part time course. Six parts of the entire dataset have a **education level** of graduate, another 2 parts are masters, 1 entire part belongs to high school level and the rest corresponds to Phd or primary school. The **major discipline** of the data scientist is mostly STEM, but there are a few which belongs to humanities. As we saw before, most professionals in the dataset have a relevant experience, that's why the majority of them have more than 3 years of **experience** working. The current **company size** of the samples are mostly 50-99, 100-500 or +10000, and these companies are mostly Pvt Ltd. Finally, candidates have a median of 47 **hours of training**. The reason why measuring with the median instead of the mean is because are some candidates that did a lot more hours (around 350), so the mean is affected by outliers."
   ]
  },
  {
   "cell_type": "markdown",
   "metadata": {},
   "source": [
    "<a id=\"statistical_inferences\"></a>"
   ]
  },
  {
   "cell_type": "markdown",
   "metadata": {},
   "source": [
    "# 2. Statistical inferences\n",
    "\n",
    "At this point we know very well the individual variables, then we are gonna start analyzing them by groups instead of individually"
   ]
  },
  {
   "cell_type": "markdown",
   "metadata": {},
   "source": [
    "<a id=\"q1\"></a>"
   ]
  },
  {
   "cell_type": "markdown",
   "metadata": {},
   "source": [
    "### 2.1 Correlation between variables and job change"
   ]
  },
  {
   "cell_type": "code",
   "execution_count": 40,
   "metadata": {},
   "outputs": [],
   "source": [
    "def get_correlation(variable, hue=None, alpha=0.8):\n",
    "    corr = df_train[[\"target\", variable]].corr().loc[variable, :][0]\n",
    "    sns.scatterplot(x=\"targetx\", y=variable, hue=hue, data=df_train, alpha=alpha)\n",
    "    plt.xlabel(\"Job Change\")\n",
    "    plt.title(\"Correlation between Job Change and {}\".format(\" \".join(variable.split(\"_\"))))\n",
    "    plt.text(.4,.5, \"p = {}\".format(np.round(corr,2)))\n",
    "    plt.show()"
   ]
  },
  {
   "cell_type": "code",
   "execution_count": 41,
   "metadata": {},
   "outputs": [
    {
     "data": {
      "text/plain": [
       "0    Yes\n",
       "1     No\n",
       "2     No\n",
       "3    Yes\n",
       "4     No\n",
       "Name: targetx, dtype: object"
      ]
     },
     "execution_count": 41,
     "metadata": {},
     "output_type": "execute_result"
    }
   ],
   "source": [
    "df_train[\"targetx\"] = df_train[\"target\"].replace({1.0: \"Yes\", 0.0: \"No\"})\n",
    "df_train[\"targetx\"].head()"
   ]
  },
  {
   "cell_type": "markdown",
   "metadata": {},
   "source": [
    "<a id=\"corr_cdi\"></a>"
   ]
  },
  {
   "cell_type": "markdown",
   "metadata": {},
   "source": [
    "#### 2.1.1 Correlation City Development Index"
   ]
  },
  {
   "cell_type": "code",
   "execution_count": 42,
   "metadata": {},
   "outputs": [
    {
     "data": {
      "image/png": "[encoded data removed]",
      "text/plain": [
       "<Figure size 432x288 with 1 Axes>"
      ]
     },
     "metadata": {
      "needs_background": "light"
     },
     "output_type": "display_data"
    }
   ],
   "source": [
    "get_correlation(\"city_development_index\")"
   ]
  },
  {
   "cell_type": "markdown",
   "metadata": {},
   "source": [
    "It appears to be a weak negative correlation between the city development index with want to change the job. Usually, a correlation value less than 0.5 is consider as not significant, so we are gonna consider that there is no significant impact between the city development index in relation with the job change."
   ]
  },
  {
   "cell_type": "markdown",
   "metadata": {},
   "source": [
    "<a id=\"corr_training_hours\"></a>"
   ]
  },
  {
   "cell_type": "markdown",
   "metadata": {},
   "source": [
    "#### 2.1.2 Correlation Training Hours"
   ]
  },
  {
   "cell_type": "code",
   "execution_count": 43,
   "metadata": {},
   "outputs": [
    {
     "data": {
      "image/png": "[encoded data removed]",
      "text/plain": [
       "<Figure size 432x288 with 1 Axes>"
      ]
     },
     "metadata": {
      "needs_background": "light"
     },
     "output_type": "display_data"
    }
   ],
   "source": [
    "get_correlation(\"training_hours\")"
   ]
  },
  {
   "cell_type": "markdown",
   "metadata": {},
   "source": [
    "There is not correlation at all between the training hours that data scientist gave to the courses with want change the job."
   ]
  },
  {
   "cell_type": "markdown",
   "metadata": {},
   "source": [
    "<a id=\"hypothesis_one\"></a>"
   ]
  },
  {
   "cell_type": "markdown",
   "metadata": {},
   "source": [
    "### 2.2 Hypothesis one:\n",
    "\n",
    "Proportionally speaking, females candidates have more relevant experience than males candidates."
   ]
  },
  {
   "cell_type": "markdown",
   "metadata": {},
   "source": [
    "[//]:# \"\""
   ]
  },
  {
   "cell_type": "markdown",
   "metadata": {},
   "source": [
    "To test the first hypothesis what we are gonna do is make an interval confidence where comparing the proportions of males who has relevant experience, with the females. Then, we have to make some assumptions:\n",
    "\n",
    "- We have a \"large enough\" samples, giving a normal distribution\n",
    "- The samples are random picked\n",
    "\n",
    "\n",
    "\"A large enough sample\" means that we have a normal distribution, where the males samples are approximatly equal to the female ones.\n",
    "\n",
    "First things first, the following step is find the optimal sample size, given by:\n",
    "\n",
    "<center><img src=\"./images/sample_size.png\" /></center>"
   ]
  },
  {
   "cell_type": "code",
   "execution_count": 44,
   "metadata": {},
   "outputs": [
    {
     "data": {
      "text/plain": [
       "1068"
      ]
     },
     "execution_count": 44,
     "metadata": {},
     "output_type": "execute_result"
    }
   ],
   "source": [
    "z = 1.96\n",
    "# margin of error\n",
    "moe = 0.03\n",
    "sample_size = int(np.ceil(z**2 / (moe**2 * 4)))\n",
    "sample_size"
   ]
  },
  {
   "cell_type": "markdown",
   "metadata": {},
   "source": [
    "As we see, 1068 is the correct sample size to get a 95% confidence interval with a margin of error = 0.03.\n",
    "\n",
    "Next: pick random samples from our initial dataset"
   ]
  },
  {
   "cell_type": "code",
   "execution_count": 45,
   "metadata": {},
   "outputs": [
    {
     "data": {
      "text/plain": [
       "(1068, 1068)"
      ]
     },
     "execution_count": 45,
     "metadata": {},
     "output_type": "execute_result"
    }
   ],
   "source": [
    "female_sample = np.random.choice(df_train[df_train[\"gender\"] == \"Female\"].relevent_experience, size=sample_size)\n",
    "male_sample = np.random.choice(df_train[df_train[\"gender\"] == \"Male\"].relevent_experience, size=sample_size)\n",
    "len(female_sample), len(male_sample)"
   ]
  },
  {
   "cell_type": "markdown",
   "metadata": {},
   "source": [
    "Getting the count of values of each gender and the respective frequency of relevent experience "
   ]
  },
  {
   "cell_type": "code",
   "execution_count": 46,
   "metadata": {},
   "outputs": [
    {
     "name": "stdout",
     "output_type": "stream",
     "text": [
      "Males data scientist with relevent experience are 788 and without relevent experience 280\n",
      "Females data scientist with relevent experience are 774 and without relevent experience 294\n"
     ]
    }
   ],
   "source": [
    "unique_male, counts_male = np.unique(male_sample, return_counts=True)\n",
    "unique_female, counts_female = np.unique(female_sample, return_counts=True)\n",
    "\n",
    "print(\"Males data scientist with relevent experience are {} and without relevent experience {}\".format(counts_male[0], counts_male[1]) )\n",
    "print(\"Females data scientist with relevent experience are {} and without relevent experience {}\".format(counts_female[0], counts_female[1]))"
   ]
  },
  {
   "cell_type": "markdown",
   "metadata": {},
   "source": [
    "Converting the count of value into a percentage to next calculate the confidence interval with it"
   ]
  },
  {
   "cell_type": "code",
   "execution_count": 47,
   "metadata": {},
   "outputs": [
    {
     "name": "stdout",
     "output_type": "stream",
     "text": [
      "Proportion males = 0.74\n",
      "Proportion females = 0.72\n"
     ]
    }
   ],
   "source": [
    "relevent_experience_male = counts_male[0]\n",
    "relevent_experience_female = counts_female[0]\n",
    "\n",
    "p_male = np.round(relevent_experience_male / sample_size,2)\n",
    "p_female = np.round(relevent_experience_female / sample_size, 2)\n",
    "\n",
    "print(\"Proportion males = {}\".format(p_male))\n",
    "print(\"Proportion females = {}\".format(p_female))"
   ]
  },
  {
   "cell_type": "code",
   "execution_count": 48,
   "metadata": {},
   "outputs": [],
   "source": [
    "def calculate_CI(p1, p2, z, sample_size1, sample_size2):\n",
    "    best_estimate = p1 - p2\n",
    "    error = np.sqrt(((p1 * (1-p1))/sample_size1) +  ((p2 * (1-p2))/sample_size2))\n",
    "    \n",
    "    x1 = best_estimate - z * error\n",
    "    x2 = best_estimate + z * error\n",
    "    \n",
    "    return (x1,x2)"
   ]
  },
  {
   "cell_type": "markdown",
   "metadata": {},
   "source": [
    "Calculating..."
   ]
  },
  {
   "cell_type": "code",
   "execution_count": 49,
   "metadata": {},
   "outputs": [
    {
     "data": {
      "text/plain": [
       "(-0.057645975557228314, 0.01764597555722828)"
      ]
     },
     "execution_count": 49,
     "metadata": {},
     "output_type": "execute_result"
    }
   ],
   "source": [
    "calculate_CI(p_female, p_male, z, sample_size, sample_size)"
   ]
  },
  {
   "cell_type": "code",
   "execution_count": 50,
   "metadata": {},
   "outputs": [
    {
     "data": {
      "text/plain": [
       "Text(0.5, 1.0, 'Relevent experience of sample of 1068 males-females')"
      ]
     },
     "execution_count": 50,
     "metadata": {},
     "output_type": "execute_result"
    },
    {
     "data": {
      "image/png": "[encoded data removed]",
      "text/plain": [
       "<Figure size 432x288 with 1 Axes>"
      ]
     },
     "metadata": {},
     "output_type": "display_data"
    }
   ],
   "source": [
    "plt.pie([counts_male[0], counts_female[0]], labels=[\"Male\", \"Female\"], autopct=\"%.2f\")\n",
    "plt.title(\"Relevent experience of sample of 1068 males-females\")"
   ]
  },
  {
   "cell_type": "markdown",
   "metadata": {},
   "source": [
    "<a id=\"hypothesis_one_result\"></a>"
   ]
  },
  {
   "cell_type": "markdown",
   "metadata": {},
   "source": [
    "#### 2.2.1 Interpreting hypothesis one results\n",
    "\n",
    "With 95% of confidence we can say that female data scientist don't have more experience than male ones. This is because the confidence interval is (-0.057, 0.017)."
   ]
  },
  {
   "cell_type": "markdown",
   "metadata": {},
   "source": [
    "<a id=\"hypothesis_two\"> </a>"
   ]
  },
  {
   "cell_type": "markdown",
   "metadata": {},
   "source": [
    "### 2.3 Hypothesis two\n",
    "\n",
    "Experience impact in the decission of change the actual job"
   ]
  },
  {
   "cell_type": "markdown",
   "metadata": {},
   "source": [
    "Expressing the hypothesis mathematically\n",
    "\n",
    "- h0: p1 - p2 != 0\n",
    "- ha: p1 - p2 = 0\n",
    "\n",
    "Where p1 is the proportion of observations with relevant experience, and p2 proportion of observarions without relevant experience.\n",
    "**h0** corresponds to the null hypothesis, and **ha** to the alternative hypothesis"
   ]
  },
  {
   "cell_type": "markdown",
   "metadata": {},
   "source": [
    "Also we have to define a **significance level**, which we are gonna set to α = 0.05"
   ]
  },
  {
   "cell_type": "code",
   "execution_count": 51,
   "metadata": {},
   "outputs": [],
   "source": [
    "sig_level = 0.05"
   ]
  },
  {
   "cell_type": "markdown",
   "metadata": {},
   "source": [
    "Now, we are gonna consider a 30 large random sample for people with relevant experience and 35 for those who don't have."
   ]
  },
  {
   "cell_type": "code",
   "execution_count": 52,
   "metadata": {},
   "outputs": [],
   "source": [
    "sample_size1 = 30\n",
    "sample_size2 = 35\n",
    "wining_seed = 2002072657\n",
    "np.random.seed(wining_seed)\n",
    "p1 = np.random.choice(df_train[df_train[\"relevent_experience\"] == \"Has relevent experience\"].target, size=sample_size1)\n",
    "p2 = np.random.choice(df_train[df_train[\"relevent_experience\"] == \"No relevent experience\"].target, size=sample_size2)"
   ]
  },
  {
   "cell_type": "markdown",
   "metadata": {},
   "source": [
    "And let's say that the sample to be \"large enough\" should contain at least 10 ones and others 10 zeros. To prove this, the following statements must be validated:\n",
    "\n",
    "Given phat = (p1 + p2) / (n1 + n2)\n",
    "\n",
    "p01 = phat * n1; p10 = n1 * (1 - phat)\n",
    "\n",
    "p21 = phat * n2; p20 = n2 * (1 - phat)\n",
    "\n",
    "**IF**...\n",
    "p01 > 10 and p10 > 10 and p21 > 10 and p20 > 10 **--->** the samples are \"large enough\""
   ]
  },
  {
   "cell_type": "code",
   "execution_count": 53,
   "metadata": {},
   "outputs": [
    {
     "name": "stdout",
     "output_type": "stream",
     "text": [
      "p01 = 10.15; Is greater than ten? True\n",
      "p10 = 19.85; Is greater than ten? True\n",
      "p21 = 11.85; Is greater than ten? True\n",
      "p20 = 23.15; Is greater than ten? True\n"
     ]
    }
   ],
   "source": [
    "phat = (p1.sum() + p2.sum()) / (sample_size1 + sample_size2)\n",
    "\n",
    "p01 = phat * sample_size1\n",
    "p10 = sample_size1 * (1-phat)\n",
    "p21 = phat * sample_size2\n",
    "p20 = sample_size2 * (1-phat)\n",
    "\n",
    "print(\"p01 = {}; Is greater than ten? {}\".format(np.round(p01, 2), p01>10))\n",
    "print(\"p10 = {}; Is greater than ten? {}\".format(np.round(p10, 2), p10>10))\n",
    "print(\"p21 = {}; Is greater than ten? {}\".format(np.round(p21, 2), p21>10))\n",
    "print(\"p20 = {}; Is greater than ten? {}\".format(np.round(p20, 2), p20>10))"
   ]
  },
  {
   "cell_type": "markdown",
   "metadata": {},
   "source": [
    "Then we have samples normally distributed.\n",
    "\n",
    "The next step is calculate the best estimate:"
   ]
  },
  {
   "cell_type": "code",
   "execution_count": 54,
   "metadata": {},
   "outputs": [
    {
     "data": {
      "text/plain": [
       "0.2571428571428571"
      ]
     },
     "execution_count": 54,
     "metadata": {},
     "output_type": "execute_result"
    }
   ],
   "source": [
    "p1_hat = p1.sum() / sample_size1\n",
    "p2_hat = p2.sum() / sample_size2\n",
    "\n",
    "best_estimate = abs(p1_hat - p2_hat)\n",
    "best_estimate"
   ]
  },
  {
   "cell_type": "markdown",
   "metadata": {},
   "source": [
    "Now, with the best estimate we can compute the standard error and use it to calculate the test statistic. Our hypothesis is comparing to 0, so our estimate for the null hypothesis will be equal to zero."
   ]
  },
  {
   "cell_type": "code",
   "execution_count": 55,
   "metadata": {},
   "outputs": [
    {
     "data": {
      "text/plain": [
       "2.3646809459906764"
      ]
     },
     "execution_count": 55,
     "metadata": {},
     "output_type": "execute_result"
    }
   ],
   "source": [
    "# standard error\n",
    "se = np.sqrt(best_estimate * (1-best_estimate)*((1/sample_size1) + (1/sample_size2)))\n",
    "\n",
    "# null hypothesis\n",
    "p0 = 0\n",
    "\n",
    "# z-score\n",
    "z = (best_estimate - p0) / se\n",
    "z"
   ]
  },
  {
   "cell_type": "markdown",
   "metadata": {},
   "source": [
    "Having the z-score, the last step is calculate the p-value, which will be the value against the significance level. P-value will determine if we have to reject or fail to reject the null hypothesis.\n",
    "\n",
    "If p-value > α, then we fail to reject the null hypothesis.\n",
    "Otherwise, we are gonna reject h0."
   ]
  },
  {
   "cell_type": "code",
   "execution_count": 56,
   "metadata": {},
   "outputs": [
    {
     "name": "stdout",
     "output_type": "stream",
     "text": [
      "p-value = 0.02, and α = 0.05. Is p-value > α? False\n"
     ]
    }
   ],
   "source": [
    "# calculate p-value\n",
    "p_value = scipy.stats.norm.sf(abs(z))*2\n",
    "\n",
    "print(\"p-value = {}, and α = {}. Is p-value > α? {}\".format(np.round(p_value,2),sig_level, p_value>sig_level))"
   ]
  },
  {
   "cell_type": "markdown",
   "metadata": {},
   "source": [
    "<a id=\"hypothesis_two_result\"></a>"
   ]
  },
  {
   "cell_type": "markdown",
   "metadata": {},
   "source": [
    "#### 2.3.1 Hypothesis two results\n",
    "\n",
    "We reject the null hypothesis, having a p-value smaller than our previously depicted significance level. There is no evidence that experience have a influence in want to change the job"
   ]
  },
  {
   "cell_type": "markdown",
   "metadata": {},
   "source": [
    "<a id=\"encoding\"> </a>"
   ]
  },
  {
   "cell_type": "markdown",
   "metadata": {},
   "source": [
    "## 3. Encoding Features\n",
    "\n",
    "Most of the features that we have are categorical, so we need them as type numeric with the purpose of pass them to the training model."
   ]
  },
  {
   "cell_type": "code",
   "execution_count": 57,
   "metadata": {},
   "outputs": [
    {
     "data": {
      "text/html": [
       "<div>\n",
       "<style scoped>\n",
       "    .dataframe tbody tr th:only-of-type {\n",
       "        vertical-align: middle;\n",
       "    }\n",
       "\n",
       "    .dataframe tbody tr th {\n",
       "        vertical-align: top;\n",
       "    }\n",
       "\n",
       "    .dataframe thead th {\n",
       "        text-align: right;\n",
       "    }\n",
       "</style>\n",
       "<table border=\"1\" class=\"dataframe\">\n",
       "  <thead>\n",
       "    <tr style=\"text-align: right;\">\n",
       "      <th></th>\n",
       "      <th>gender_Female</th>\n",
       "      <th>gender_Male</th>\n",
       "      <th>gender_Other</th>\n",
       "      <th>relevent_experience_Has relevent experience</th>\n",
       "      <th>relevent_experience_No relevent experience</th>\n",
       "      <th>enrolled_university_Full time course</th>\n",
       "      <th>enrolled_university_Part time course</th>\n",
       "      <th>enrolled_university_no_enrollment</th>\n",
       "      <th>education_level_Graduate</th>\n",
       "      <th>education_level_High School</th>\n",
       "      <th>...</th>\n",
       "      <th>company_type_NGO</th>\n",
       "      <th>company_type_Other</th>\n",
       "      <th>company_type_Public Sector</th>\n",
       "      <th>company_type_Pvt Ltd</th>\n",
       "      <th>last_new_job_1</th>\n",
       "      <th>last_new_job_2</th>\n",
       "      <th>last_new_job_3</th>\n",
       "      <th>last_new_job_4</th>\n",
       "      <th>last_new_job_&gt;4</th>\n",
       "      <th>last_new_job_never</th>\n",
       "    </tr>\n",
       "  </thead>\n",
       "  <tbody>\n",
       "    <tr>\n",
       "      <th>0</th>\n",
       "      <td>0</td>\n",
       "      <td>1</td>\n",
       "      <td>0</td>\n",
       "      <td>1</td>\n",
       "      <td>0</td>\n",
       "      <td>0</td>\n",
       "      <td>0</td>\n",
       "      <td>1</td>\n",
       "      <td>1</td>\n",
       "      <td>0</td>\n",
       "      <td>...</td>\n",
       "      <td>0</td>\n",
       "      <td>0</td>\n",
       "      <td>0</td>\n",
       "      <td>0</td>\n",
       "      <td>1</td>\n",
       "      <td>0</td>\n",
       "      <td>0</td>\n",
       "      <td>0</td>\n",
       "      <td>0</td>\n",
       "      <td>0</td>\n",
       "    </tr>\n",
       "    <tr>\n",
       "      <th>1</th>\n",
       "      <td>0</td>\n",
       "      <td>1</td>\n",
       "      <td>0</td>\n",
       "      <td>0</td>\n",
       "      <td>1</td>\n",
       "      <td>0</td>\n",
       "      <td>0</td>\n",
       "      <td>1</td>\n",
       "      <td>1</td>\n",
       "      <td>0</td>\n",
       "      <td>...</td>\n",
       "      <td>0</td>\n",
       "      <td>0</td>\n",
       "      <td>0</td>\n",
       "      <td>1</td>\n",
       "      <td>0</td>\n",
       "      <td>0</td>\n",
       "      <td>0</td>\n",
       "      <td>0</td>\n",
       "      <td>1</td>\n",
       "      <td>0</td>\n",
       "    </tr>\n",
       "    <tr>\n",
       "      <th>2</th>\n",
       "      <td>0</td>\n",
       "      <td>0</td>\n",
       "      <td>0</td>\n",
       "      <td>0</td>\n",
       "      <td>1</td>\n",
       "      <td>1</td>\n",
       "      <td>0</td>\n",
       "      <td>0</td>\n",
       "      <td>1</td>\n",
       "      <td>0</td>\n",
       "      <td>...</td>\n",
       "      <td>0</td>\n",
       "      <td>0</td>\n",
       "      <td>0</td>\n",
       "      <td>0</td>\n",
       "      <td>0</td>\n",
       "      <td>0</td>\n",
       "      <td>0</td>\n",
       "      <td>0</td>\n",
       "      <td>0</td>\n",
       "      <td>1</td>\n",
       "    </tr>\n",
       "    <tr>\n",
       "      <th>3</th>\n",
       "      <td>0</td>\n",
       "      <td>0</td>\n",
       "      <td>0</td>\n",
       "      <td>0</td>\n",
       "      <td>1</td>\n",
       "      <td>0</td>\n",
       "      <td>0</td>\n",
       "      <td>0</td>\n",
       "      <td>1</td>\n",
       "      <td>0</td>\n",
       "      <td>...</td>\n",
       "      <td>0</td>\n",
       "      <td>0</td>\n",
       "      <td>0</td>\n",
       "      <td>1</td>\n",
       "      <td>0</td>\n",
       "      <td>0</td>\n",
       "      <td>0</td>\n",
       "      <td>0</td>\n",
       "      <td>0</td>\n",
       "      <td>1</td>\n",
       "    </tr>\n",
       "    <tr>\n",
       "      <th>4</th>\n",
       "      <td>0</td>\n",
       "      <td>1</td>\n",
       "      <td>0</td>\n",
       "      <td>1</td>\n",
       "      <td>0</td>\n",
       "      <td>0</td>\n",
       "      <td>0</td>\n",
       "      <td>1</td>\n",
       "      <td>0</td>\n",
       "      <td>0</td>\n",
       "      <td>...</td>\n",
       "      <td>0</td>\n",
       "      <td>0</td>\n",
       "      <td>0</td>\n",
       "      <td>0</td>\n",
       "      <td>0</td>\n",
       "      <td>0</td>\n",
       "      <td>0</td>\n",
       "      <td>1</td>\n",
       "      <td>0</td>\n",
       "      <td>0</td>\n",
       "    </tr>\n",
       "  </tbody>\n",
       "</table>\n",
       "<p>5 rows × 61 columns</p>\n",
       "</div>"
      ],
      "text/plain": [
       "   gender_Female  gender_Male  gender_Other  \\\n",
       "0              0            1             0   \n",
       "1              0            1             0   \n",
       "2              0            0             0   \n",
       "3              0            0             0   \n",
       "4              0            1             0   \n",
       "\n",
       "   relevent_experience_Has relevent experience  \\\n",
       "0                                            1   \n",
       "1                                            0   \n",
       "2                                            0   \n",
       "3                                            0   \n",
       "4                                            1   \n",
       "\n",
       "   relevent_experience_No relevent experience  \\\n",
       "0                                           0   \n",
       "1                                           1   \n",
       "2                                           1   \n",
       "3                                           1   \n",
       "4                                           0   \n",
       "\n",
       "   enrolled_university_Full time course  enrolled_university_Part time course  \\\n",
       "0                                     0                                     0   \n",
       "1                                     0                                     0   \n",
       "2                                     1                                     0   \n",
       "3                                     0                                     0   \n",
       "4                                     0                                     0   \n",
       "\n",
       "   enrolled_university_no_enrollment  education_level_Graduate  \\\n",
       "0                                  1                         1   \n",
       "1                                  1                         1   \n",
       "2                                  0                         1   \n",
       "3                                  0                         1   \n",
       "4                                  1                         0   \n",
       "\n",
       "   education_level_High School  ...  company_type_NGO  company_type_Other  \\\n",
       "0                            0  ...                 0                   0   \n",
       "1                            0  ...                 0                   0   \n",
       "2                            0  ...                 0                   0   \n",
       "3                            0  ...                 0                   0   \n",
       "4                            0  ...                 0                   0   \n",
       "\n",
       "   company_type_Public Sector  company_type_Pvt Ltd  last_new_job_1  \\\n",
       "0                           0                     0               1   \n",
       "1                           0                     1               0   \n",
       "2                           0                     0               0   \n",
       "3                           0                     1               0   \n",
       "4                           0                     0               0   \n",
       "\n",
       "   last_new_job_2  last_new_job_3  last_new_job_4  last_new_job_>4  \\\n",
       "0               0               0               0                0   \n",
       "1               0               0               0                1   \n",
       "2               0               0               0                0   \n",
       "3               0               0               0                0   \n",
       "4               0               0               1                0   \n",
       "\n",
       "   last_new_job_never  \n",
       "0                   0  \n",
       "1                   0  \n",
       "2                   1  \n",
       "3                   1  \n",
       "4                   0  \n",
       "\n",
       "[5 rows x 61 columns]"
      ]
     },
     "execution_count": 57,
     "metadata": {},
     "output_type": "execute_result"
    }
   ],
   "source": [
    "columns_to_dummy = ['gender', 'relevent_experience', 'enrolled_university', 'education_level',\n",
    "                   'major_discipline', 'experience', 'company_size', 'company_type', 'last_new_job']\n",
    "\n",
    "dummies_df = pd.get_dummies(df_train[columns_to_dummy])\n",
    "dummies_df.head()"
   ]
  },
  {
   "cell_type": "markdown",
   "metadata": {},
   "source": [
    "To train the model, we are gonna use the dummies features previously encoded and plus the city development index with the training hours."
   ]
  },
  {
   "cell_type": "code",
   "execution_count": 58,
   "metadata": {},
   "outputs": [
    {
     "data": {
      "text/html": [
       "<div>\n",
       "<style scoped>\n",
       "    .dataframe tbody tr th:only-of-type {\n",
       "        vertical-align: middle;\n",
       "    }\n",
       "\n",
       "    .dataframe tbody tr th {\n",
       "        vertical-align: top;\n",
       "    }\n",
       "\n",
       "    .dataframe thead th {\n",
       "        text-align: right;\n",
       "    }\n",
       "</style>\n",
       "<table border=\"1\" class=\"dataframe\">\n",
       "  <thead>\n",
       "    <tr style=\"text-align: right;\">\n",
       "      <th></th>\n",
       "      <th>city_development_index</th>\n",
       "      <th>training_hours</th>\n",
       "      <th>gender_Female</th>\n",
       "      <th>gender_Male</th>\n",
       "      <th>gender_Other</th>\n",
       "      <th>relevent_experience_Has relevent experience</th>\n",
       "      <th>relevent_experience_No relevent experience</th>\n",
       "      <th>enrolled_university_Full time course</th>\n",
       "      <th>enrolled_university_Part time course</th>\n",
       "      <th>enrolled_university_no_enrollment</th>\n",
       "      <th>...</th>\n",
       "      <th>company_type_NGO</th>\n",
       "      <th>company_type_Other</th>\n",
       "      <th>company_type_Public Sector</th>\n",
       "      <th>company_type_Pvt Ltd</th>\n",
       "      <th>last_new_job_1</th>\n",
       "      <th>last_new_job_2</th>\n",
       "      <th>last_new_job_3</th>\n",
       "      <th>last_new_job_4</th>\n",
       "      <th>last_new_job_&gt;4</th>\n",
       "      <th>last_new_job_never</th>\n",
       "    </tr>\n",
       "  </thead>\n",
       "  <tbody>\n",
       "    <tr>\n",
       "      <th>0</th>\n",
       "      <td>0.738919</td>\n",
       "      <td>-0.488985</td>\n",
       "      <td>0</td>\n",
       "      <td>1</td>\n",
       "      <td>0</td>\n",
       "      <td>1</td>\n",
       "      <td>0</td>\n",
       "      <td>0</td>\n",
       "      <td>0</td>\n",
       "      <td>1</td>\n",
       "      <td>...</td>\n",
       "      <td>0</td>\n",
       "      <td>0</td>\n",
       "      <td>0</td>\n",
       "      <td>0</td>\n",
       "      <td>1</td>\n",
       "      <td>0</td>\n",
       "      <td>0</td>\n",
       "      <td>0</td>\n",
       "      <td>0</td>\n",
       "      <td>0</td>\n",
       "    </tr>\n",
       "    <tr>\n",
       "      <th>1</th>\n",
       "      <td>-0.428410</td>\n",
       "      <td>-0.305825</td>\n",
       "      <td>0</td>\n",
       "      <td>1</td>\n",
       "      <td>0</td>\n",
       "      <td>0</td>\n",
       "      <td>1</td>\n",
       "      <td>0</td>\n",
       "      <td>0</td>\n",
       "      <td>1</td>\n",
       "      <td>...</td>\n",
       "      <td>0</td>\n",
       "      <td>0</td>\n",
       "      <td>0</td>\n",
       "      <td>1</td>\n",
       "      <td>0</td>\n",
       "      <td>0</td>\n",
       "      <td>0</td>\n",
       "      <td>0</td>\n",
       "      <td>1</td>\n",
       "      <td>0</td>\n",
       "    </tr>\n",
       "    <tr>\n",
       "      <th>2</th>\n",
       "      <td>-1.660590</td>\n",
       "      <td>0.293607</td>\n",
       "      <td>0</td>\n",
       "      <td>0</td>\n",
       "      <td>0</td>\n",
       "      <td>0</td>\n",
       "      <td>1</td>\n",
       "      <td>1</td>\n",
       "      <td>0</td>\n",
       "      <td>0</td>\n",
       "      <td>...</td>\n",
       "      <td>0</td>\n",
       "      <td>0</td>\n",
       "      <td>0</td>\n",
       "      <td>0</td>\n",
       "      <td>0</td>\n",
       "      <td>0</td>\n",
       "      <td>0</td>\n",
       "      <td>0</td>\n",
       "      <td>0</td>\n",
       "      <td>1</td>\n",
       "    </tr>\n",
       "    <tr>\n",
       "      <th>3</th>\n",
       "      <td>-0.323026</td>\n",
       "      <td>-0.222571</td>\n",
       "      <td>0</td>\n",
       "      <td>0</td>\n",
       "      <td>0</td>\n",
       "      <td>0</td>\n",
       "      <td>1</td>\n",
       "      <td>0</td>\n",
       "      <td>0</td>\n",
       "      <td>0</td>\n",
       "      <td>...</td>\n",
       "      <td>0</td>\n",
       "      <td>0</td>\n",
       "      <td>0</td>\n",
       "      <td>1</td>\n",
       "      <td>0</td>\n",
       "      <td>0</td>\n",
       "      <td>0</td>\n",
       "      <td>0</td>\n",
       "      <td>0</td>\n",
       "      <td>1</td>\n",
       "    </tr>\n",
       "    <tr>\n",
       "      <th>4</th>\n",
       "      <td>-0.501368</td>\n",
       "      <td>-0.955209</td>\n",
       "      <td>0</td>\n",
       "      <td>1</td>\n",
       "      <td>0</td>\n",
       "      <td>1</td>\n",
       "      <td>0</td>\n",
       "      <td>0</td>\n",
       "      <td>0</td>\n",
       "      <td>1</td>\n",
       "      <td>...</td>\n",
       "      <td>0</td>\n",
       "      <td>0</td>\n",
       "      <td>0</td>\n",
       "      <td>0</td>\n",
       "      <td>0</td>\n",
       "      <td>0</td>\n",
       "      <td>0</td>\n",
       "      <td>1</td>\n",
       "      <td>0</td>\n",
       "      <td>0</td>\n",
       "    </tr>\n",
       "  </tbody>\n",
       "</table>\n",
       "<p>5 rows × 63 columns</p>\n",
       "</div>"
      ],
      "text/plain": [
       "   city_development_index  training_hours  gender_Female  gender_Male  \\\n",
       "0                0.738919       -0.488985              0            1   \n",
       "1               -0.428410       -0.305825              0            1   \n",
       "2               -1.660590        0.293607              0            0   \n",
       "3               -0.323026       -0.222571              0            0   \n",
       "4               -0.501368       -0.955209              0            1   \n",
       "\n",
       "   gender_Other  relevent_experience_Has relevent experience  \\\n",
       "0             0                                            1   \n",
       "1             0                                            0   \n",
       "2             0                                            0   \n",
       "3             0                                            0   \n",
       "4             0                                            1   \n",
       "\n",
       "   relevent_experience_No relevent experience  \\\n",
       "0                                           0   \n",
       "1                                           1   \n",
       "2                                           1   \n",
       "3                                           1   \n",
       "4                                           0   \n",
       "\n",
       "   enrolled_university_Full time course  enrolled_university_Part time course  \\\n",
       "0                                     0                                     0   \n",
       "1                                     0                                     0   \n",
       "2                                     1                                     0   \n",
       "3                                     0                                     0   \n",
       "4                                     0                                     0   \n",
       "\n",
       "   enrolled_university_no_enrollment  ...  company_type_NGO  \\\n",
       "0                                  1  ...                 0   \n",
       "1                                  1  ...                 0   \n",
       "2                                  0  ...                 0   \n",
       "3                                  0  ...                 0   \n",
       "4                                  1  ...                 0   \n",
       "\n",
       "   company_type_Other  company_type_Public Sector  company_type_Pvt Ltd  \\\n",
       "0                   0                           0                     0   \n",
       "1                   0                           0                     1   \n",
       "2                   0                           0                     0   \n",
       "3                   0                           0                     1   \n",
       "4                   0                           0                     0   \n",
       "\n",
       "   last_new_job_1  last_new_job_2  last_new_job_3  last_new_job_4  \\\n",
       "0               1               0               0               0   \n",
       "1               0               0               0               0   \n",
       "2               0               0               0               0   \n",
       "3               0               0               0               0   \n",
       "4               0               0               0               1   \n",
       "\n",
       "   last_new_job_>4  last_new_job_never  \n",
       "0                0                   0  \n",
       "1                1                   0  \n",
       "2                0                   1  \n",
       "3                0                   1  \n",
       "4                0                   0  \n",
       "\n",
       "[5 rows x 63 columns]"
      ]
     },
     "execution_count": 58,
     "metadata": {},
     "output_type": "execute_result"
    }
   ],
   "source": [
    "features_to_std = [\"city_development_index\", \"training_hours\"]\n",
    "std_features = pd.DataFrame(StandardScaler().fit_transform(df_train[features_to_std]), columns=features_to_std)\n",
    "X = pd.concat([std_features, dummies_df], axis=1)\n",
    "Y = df_train.target\n",
    "X.head()"
   ]
  },
  {
   "cell_type": "markdown",
   "metadata": {},
   "source": [
    "Separating into train data and validation one:"
   ]
  },
  {
   "cell_type": "code",
   "execution_count": 59,
   "metadata": {},
   "outputs": [],
   "source": [
    "X_train, X_test, y_train, y_test = train_test_split(X,Y, test_size=.3, random_state=42)"
   ]
  },
  {
   "cell_type": "markdown",
   "metadata": {},
   "source": [
    "<a id=\"training_models\"></a>"
   ]
  },
  {
   "cell_type": "markdown",
   "metadata": {},
   "source": [
    "# 4. Training Models\n",
    "\n",
    "In this section, we are gonna implement machine learning models having in mind the objective of this notebook: predict the probability of a data scientist looking for a new job. To achieve this purpose, we have to use classification models."
   ]
  },
  {
   "cell_type": "markdown",
   "metadata": {},
   "source": [
    "<a id=\"logistic_regression\"></a>"
   ]
  },
  {
   "cell_type": "markdown",
   "metadata": {},
   "source": [
    "## 4.1 Logistic Regression "
   ]
  },
  {
   "cell_type": "markdown",
   "metadata": {},
   "source": [
    "The first model we are gonna train and inspect the metrics it returns is a classic logistic regression provided by Sklearn package. "
   ]
  },
  {
   "cell_type": "code",
   "execution_count": 60,
   "metadata": {},
   "outputs": [],
   "source": [
    "lr = LogisticRegression(max_iter=1000)\n",
    "lr.fit(X_train, y_train)\n",
    "\n",
    "lr_predictions = lr.predict(X_test)"
   ]
  },
  {
   "cell_type": "code",
   "execution_count": 61,
   "metadata": {},
   "outputs": [
    {
     "data": {
      "text/plain": [
       "0.7686151704940849"
      ]
     },
     "execution_count": 61,
     "metadata": {},
     "output_type": "execute_result"
    }
   ],
   "source": [
    "lr_accuracy = metrics.accuracy_score(lr_predictions, y_test)\n",
    "lr_accuracy"
   ]
  },
  {
   "cell_type": "code",
   "execution_count": 62,
   "metadata": {},
   "outputs": [
    {
     "data": {
      "text/plain": [
       "Text(0.5, 1.0, 'Confusion Matrix for Linear Regression')"
      ]
     },
     "execution_count": 62,
     "metadata": {},
     "output_type": "execute_result"
    },
    {
     "data": {
      "image/png": "[encoded data removed]",
      "text/plain": [
       "<Figure size 432x288 with 2 Axes>"
      ]
     },
     "metadata": {
      "needs_background": "light"
     },
     "output_type": "display_data"
    }
   ],
   "source": [
    "lr_cf_matrix = metrics.confusion_matrix(lr_predictions, y_test)\n",
    "sns.heatmap(lr_cf_matrix/np.sum(lr_cf_matrix), annot=True, fmt='.2%', cmap='Blues')\n",
    "plt.title(\"Confusion Matrix for Linear Regression\")"
   ]
  },
  {
   "cell_type": "code",
   "execution_count": 63,
   "metadata": {},
   "outputs": [
    {
     "name": "stdout",
     "output_type": "stream",
     "text": [
      "                           precision    recall  f1-score   support\n",
      "\n",
      "Not looking for a new job       0.79      0.93      0.86      4300\n",
      "    Looking for a new job       0.59      0.28      0.38      1448\n",
      "\n",
      "                 accuracy                           0.77      5748\n",
      "                macro avg       0.69      0.61      0.62      5748\n",
      "             weighted avg       0.74      0.77      0.74      5748\n",
      "\n"
     ]
    }
   ],
   "source": [
    "print(metrics.classification_report(y_test, \n",
    "                                    lr_predictions, \n",
    "                                    target_names=[\"Not looking for a new job\",\"Looking for a new job\"]))"
   ]
  },
  {
   "cell_type": "code",
   "execution_count": 64,
   "metadata": {},
   "outputs": [
    {
     "data": {
      "text/plain": [
       "['models/logistic_regression-0.7686151704940849.sav']"
      ]
     },
     "execution_count": 64,
     "metadata": {},
     "output_type": "execute_result"
    }
   ],
   "source": [
    "lr_filename = \"models/logistic_regression-{}.sav\".format(lr_accuracy)\n",
    "joblib.dump(lr, lr_filename)"
   ]
  },
  {
   "cell_type": "markdown",
   "metadata": {},
   "source": [
    "<a id=\"ann\"></a>"
   ]
  },
  {
   "cell_type": "markdown",
   "metadata": {},
   "source": [
    "## 4.2 Neural Network"
   ]
  },
  {
   "cell_type": "markdown",
   "metadata": {},
   "source": [
    "In this sub-section we will train different neural network with different specifications. Will vary the number of layers and nodes, but we are gonna keep the same parameters such as the optimizer and the loss function. Finally we will compare the results and metrics of the differents neural networks and save the best option."
   ]
  },
  {
   "cell_type": "markdown",
   "metadata": {},
   "source": [
    "[//]:# \"\""
   ]
  },
  {
   "cell_type": "markdown",
   "metadata": {},
   "source": [
    "The functionallity of the below function is train the neural network. StratifiedKFold allow us to split the dataset into k number of folds (in this case we are gonna use k=10). Then we define the estimator that we have to create a KerasClassifier instance because it allow us to use keras model with scikit learn functionalities.\n",
    "Then we pass the previously created estimator and the kfolds to a cross validation score, which will return an array with the scores of the neural network"
   ]
  },
  {
   "cell_type": "code",
   "execution_count": 65,
   "metadata": {},
   "outputs": [],
   "source": [
    "n_cols = X.shape[1]\n",
    "def train_neural_network(ann, name=\"\"):\n",
    "    metrics = {\n",
    "        \"test_loss\": [],\n",
    "        \"test_acc\": [],\n",
    "        \"train_loss\": [],\n",
    "        \"train_acc\": [],\n",
    "        \"val_loss\": [],\n",
    "        \"val_acc\": []\n",
    "    }\n",
    "    \n",
    "\n",
    "    X_train, X_test, y_train, y_test = train_test_split(X,Y, test_size=.3, random_state=42)\n",
    "\n",
    "    # saving some samples for validation\n",
    "    X_val = X_train[-3410:]\n",
    "    X_train = X_train[:-3410]\n",
    "    y_val = y_train[-3410:]\n",
    "    y_train = y_train[:-3410]\n",
    "\n",
    "    model = ann()\n",
    "    history = model.fit(\n",
    "                X_train,\n",
    "                y_train,\n",
    "                batch_size=64,\n",
    "                epochs=100,\n",
    "                validation_data=(X_val, y_val),\n",
    "                verbose=0\n",
    "            )\n",
    "\n",
    "    test_loss, test_accuracy = model.evaluate(X_test, y_test, batch_size=128, verbose=0)\n",
    "    # saving metrics\n",
    "    metrics[\"test_loss\"].append(test_loss)\n",
    "    metrics[\"test_acc\"].append(test_accuracy)\n",
    "    metrics[\"train_loss\"].append(history.history[\"loss\"][0])\n",
    "    metrics[\"train_acc\"].append(history.history[\"accuracy\"][0])\n",
    "    metrics[\"val_loss\"].append(history.history[\"val_loss\"][0])\n",
    "    metrics[\"val_acc\"].append(history.history[\"val_accuracy\"][0])\n",
    "    \n",
    "    # plotting accuracy\n",
    "    plt.plot(history.history['accuracy'])\n",
    "    plt.plot(history.history['val_accuracy'])\n",
    "    plt.title('model accuracy')\n",
    "    plt.ylabel('accuracy')\n",
    "    plt.xlabel('epoch')\n",
    "    plt.legend(['train', 'test'], loc='upper left')\n",
    "    plt.show()\n",
    "    # plotting loss\n",
    "    plt.plot(history.history['loss'])\n",
    "    plt.plot(history.history['val_loss'])\n",
    "    plt.title('model loss')\n",
    "    plt.ylabel('loss')\n",
    "    plt.xlabel('epoch')\n",
    "    plt.legend(['train', 'test'], loc='upper left')\n",
    "    plt.show()\n",
    "    \n",
    "    filename = \"models/{}-{}.sav\".format(name, test_accuracy)\n",
    "    model.save(filename)\n",
    "        \n",
    "    return (model, pd.DataFrame(metrics))"
   ]
  },
  {
   "cell_type": "markdown",
   "metadata": {},
   "source": [
    "<a id=\"fc_ann_ohl\"></a>"
   ]
  },
  {
   "cell_type": "markdown",
   "metadata": {},
   "source": [
    "### 4.2.1 Fully Connected Artificial Neural Network One Hidden Layer\n",
    "\n",
    "The first neural network to train is a fully connected one with only one hidden layer. We also use the binary cross entropy loss-measurment, which is the preferred **loss function** for binary classification problems. We set adam as **optimizer** algorithm for gradient descent and finally, the **accuracy** metric will be collected during the training."
   ]
  },
  {
   "cell_type": "code",
   "execution_count": 66,
   "metadata": {},
   "outputs": [],
   "source": [
    "# Fully Connected Artificial Neural Network One Hidden Layer\n",
    "def fc_ann_ohl():\n",
    "\n",
    "    model = Sequential()\n",
    "    model.add(Dense(n_cols, activation=\"relu\", input_shape=(n_cols,)))\n",
    "    model.add(Dense(1, activation=\"sigmoid\"))\n",
    "    \n",
    "    model.compile(optimizer=\"adam\", loss='binary_crossentropy', metrics=[\"accuracy\"])\n",
    "    \n",
    "    return model"
   ]
  },
  {
   "cell_type": "code",
   "execution_count": 67,
   "metadata": {},
   "outputs": [
    {
     "data": {
      "image/png": "[encoded data removed]",
      "text/plain": [
       "<Figure size 432x288 with 1 Axes>"
      ]
     },
     "metadata": {
      "needs_background": "light"
     },
     "output_type": "display_data"
    },
    {
     "data": {
      "image/png": "[encoded data removed]",
      "text/plain": [
       "<Figure size 432x288 with 1 Axes>"
      ]
     },
     "metadata": {
      "needs_background": "light"
     },
     "output_type": "display_data"
    },
    {
     "name": "stdout",
     "output_type": "stream",
     "text": [
      "WARNING:tensorflow:From /home/francisco/anaconda3/lib/python3.8/site-packages/tensorflow/python/ops/resource_variable_ops.py:1813: calling BaseResourceVariable.__init__ (from tensorflow.python.ops.resource_variable_ops) with constraint is deprecated and will be removed in a future version.\n",
      "Instructions for updating:\n",
      "If using Keras pass *_constraint arguments to layers.\n",
      "INFO:tensorflow:Assets written to: models/fc_ann_ohl-0.7599164843559265.sav/assets\n"
     ]
    }
   ],
   "source": [
    "(ann1, ann1_metrics) = train_neural_network(fc_ann_ohl, \"fc_ann_ohl\")"
   ]
  },
  {
   "cell_type": "code",
   "execution_count": 68,
   "metadata": {},
   "outputs": [
    {
     "data": {
      "text/html": [
       "<div>\n",
       "<style scoped>\n",
       "    .dataframe tbody tr th:only-of-type {\n",
       "        vertical-align: middle;\n",
       "    }\n",
       "\n",
       "    .dataframe tbody tr th {\n",
       "        vertical-align: top;\n",
       "    }\n",
       "\n",
       "    .dataframe thead th {\n",
       "        text-align: right;\n",
       "    }\n",
       "</style>\n",
       "<table border=\"1\" class=\"dataframe\">\n",
       "  <thead>\n",
       "    <tr style=\"text-align: right;\">\n",
       "      <th></th>\n",
       "      <th>test_loss</th>\n",
       "      <th>test_acc</th>\n",
       "      <th>train_loss</th>\n",
       "      <th>train_acc</th>\n",
       "      <th>val_loss</th>\n",
       "      <th>val_acc</th>\n",
       "    </tr>\n",
       "  </thead>\n",
       "  <tbody>\n",
       "    <tr>\n",
       "      <th>0</th>\n",
       "      <td>0.542042</td>\n",
       "      <td>0.759916</td>\n",
       "      <td>0.497672</td>\n",
       "      <td>0.7646</td>\n",
       "      <td>0.470597</td>\n",
       "      <td>0.779179</td>\n",
       "    </tr>\n",
       "  </tbody>\n",
       "</table>\n",
       "</div>"
      ],
      "text/plain": [
       "   test_loss  test_acc  train_loss  train_acc  val_loss   val_acc\n",
       "0   0.542042  0.759916    0.497672     0.7646  0.470597  0.779179"
      ]
     },
     "execution_count": 68,
     "metadata": {},
     "output_type": "execute_result"
    }
   ],
   "source": [
    "ann1_metrics"
   ]
  },
  {
   "cell_type": "markdown",
   "metadata": {},
   "source": [
    "As we can see, the results of a fully connected network with only one hidden layer it's an overfitted model because the training accuracy still growing meanwhile the test accuracy decrease"
   ]
  },
  {
   "cell_type": "markdown",
   "metadata": {},
   "source": [
    "<a id=\"fc_ann_thl\"></a>"
   ]
  },
  {
   "cell_type": "markdown",
   "metadata": {},
   "source": [
    "### 4.2.2 Fully Connected Artificial Neural Network Two Hidden Layer\n",
    "\n",
    "The second neural network to train is a fully connected one with two hidden layers. So, the first layer will have as units the number of features (63) and the second one will have 31 neurons"
   ]
  },
  {
   "cell_type": "code",
   "execution_count": 69,
   "metadata": {},
   "outputs": [],
   "source": [
    "# Fully Connected Artificial Neural Network Two Hidden Layer\n",
    "def fc_ann_thl():\n",
    "    model = Sequential()\n",
    "    model.add(Dense(n_cols, activation=\"relu\", input_shape=(n_cols,)))\n",
    "    model.add(Dense(31, activation=\"relu\"))\n",
    "    model.add(Dense(1, activation=\"sigmoid\"))\n",
    "    \n",
    "    model.compile(optimizer=\"adam\", loss='binary_crossentropy', metrics=[\"accuracy\"])\n",
    "    \n",
    "    return model"
   ]
  },
  {
   "cell_type": "code",
   "execution_count": 70,
   "metadata": {},
   "outputs": [
    {
     "data": {
      "image/png": "[encoded data removed]",
      "text/plain": [
       "<Figure size 432x288 with 1 Axes>"
      ]
     },
     "metadata": {
      "needs_background": "light"
     },
     "output_type": "display_data"
    },
    {
     "data": {
      "image/png": "[encoded data removed]",
      "text/plain": [
       "<Figure size 432x288 with 1 Axes>"
      ]
     },
     "metadata": {
      "needs_background": "light"
     },
     "output_type": "display_data"
    },
    {
     "name": "stdout",
     "output_type": "stream",
     "text": [
      "INFO:tensorflow:Assets written to: models/fc_ann_thl-0.7282533049583435.sav/assets\n"
     ]
    }
   ],
   "source": [
    "(ann2, ann2_metrics) = train_neural_network(fc_ann_thl, \"fc_ann_thl\")"
   ]
  },
  {
   "cell_type": "code",
   "execution_count": 71,
   "metadata": {},
   "outputs": [
    {
     "data": {
      "text/html": [
       "<div>\n",
       "<style scoped>\n",
       "    .dataframe tbody tr th:only-of-type {\n",
       "        vertical-align: middle;\n",
       "    }\n",
       "\n",
       "    .dataframe tbody tr th {\n",
       "        vertical-align: top;\n",
       "    }\n",
       "\n",
       "    .dataframe thead th {\n",
       "        text-align: right;\n",
       "    }\n",
       "</style>\n",
       "<table border=\"1\" class=\"dataframe\">\n",
       "  <thead>\n",
       "    <tr style=\"text-align: right;\">\n",
       "      <th></th>\n",
       "      <th>test_loss</th>\n",
       "      <th>test_acc</th>\n",
       "      <th>train_loss</th>\n",
       "      <th>train_acc</th>\n",
       "      <th>val_loss</th>\n",
       "      <th>val_acc</th>\n",
       "    </tr>\n",
       "  </thead>\n",
       "  <tbody>\n",
       "    <tr>\n",
       "      <th>0</th>\n",
       "      <td>0.897604</td>\n",
       "      <td>0.728253</td>\n",
       "      <td>0.518509</td>\n",
       "      <td>0.735</td>\n",
       "      <td>0.470545</td>\n",
       "      <td>0.782405</td>\n",
       "    </tr>\n",
       "  </tbody>\n",
       "</table>\n",
       "</div>"
      ],
      "text/plain": [
       "   test_loss  test_acc  train_loss  train_acc  val_loss   val_acc\n",
       "0   0.897604  0.728253    0.518509      0.735  0.470545  0.782405"
      ]
     },
     "execution_count": 71,
     "metadata": {},
     "output_type": "execute_result"
    }
   ],
   "source": [
    "ann2_metrics"
   ]
  },
  {
   "cell_type": "markdown",
   "metadata": {},
   "source": [
    "As same of the first neural network, this one with two hidden layers also is an overfitted model"
   ]
  },
  {
   "cell_type": "markdown",
   "metadata": {},
   "source": [
    "<a id=\"ann_ohl\"></a>"
   ]
  },
  {
   "cell_type": "markdown",
   "metadata": {},
   "source": [
    "### 4.2.3 Artificial Neural Network One Hidden Layer (not fully connected)\n",
    "\n",
    "The third neural network has only one hidden layer and is not fully connected because this layer just has 30 units (almost the half of the input shape). This will put pressure on the network during training to pick out the most important structure in the input data to model."
   ]
  },
  {
   "cell_type": "code",
   "execution_count": 72,
   "metadata": {},
   "outputs": [],
   "source": [
    "# Artificial Neural Network One Hidden Layer (not fully connected)\n",
    "def ann_ohl():\n",
    "    model = Sequential()\n",
    "    model.add(Dense(31, activation=\"relu\", input_shape=(n_cols,)))\n",
    "    model.add(Dense(1, activation=\"sigmoid\"))\n",
    "    \n",
    "    model.compile(optimizer=\"adam\", loss='binary_crossentropy', metrics=[\"accuracy\"])\n",
    "    \n",
    "    return model"
   ]
  },
  {
   "cell_type": "code",
   "execution_count": 73,
   "metadata": {},
   "outputs": [
    {
     "data": {
      "image/png": "[encoded data removed]",
      "text/plain": [
       "<Figure size 432x288 with 1 Axes>"
      ]
     },
     "metadata": {
      "needs_background": "light"
     },
     "output_type": "display_data"
    },
    {
     "data": {
      "image/png": "[encoded data removed]",
      "text/plain": [
       "<Figure size 432x288 with 1 Axes>"
      ]
     },
     "metadata": {
      "needs_background": "light"
     },
     "output_type": "display_data"
    },
    {
     "name": "stdout",
     "output_type": "stream",
     "text": [
      "INFO:tensorflow:Assets written to: models/ann_ohl-0.7663534879684448.sav/assets\n"
     ]
    }
   ],
   "source": [
    "(ann3, ann3_metrics) = train_neural_network(ann_ohl, \"ann_ohl\")"
   ]
  },
  {
   "cell_type": "code",
   "execution_count": 74,
   "metadata": {},
   "outputs": [
    {
     "data": {
      "text/html": [
       "<div>\n",
       "<style scoped>\n",
       "    .dataframe tbody tr th:only-of-type {\n",
       "        vertical-align: middle;\n",
       "    }\n",
       "\n",
       "    .dataframe tbody tr th {\n",
       "        vertical-align: top;\n",
       "    }\n",
       "\n",
       "    .dataframe thead th {\n",
       "        text-align: right;\n",
       "    }\n",
       "</style>\n",
       "<table border=\"1\" class=\"dataframe\">\n",
       "  <thead>\n",
       "    <tr style=\"text-align: right;\">\n",
       "      <th></th>\n",
       "      <th>test_loss</th>\n",
       "      <th>test_acc</th>\n",
       "      <th>train_loss</th>\n",
       "      <th>train_acc</th>\n",
       "      <th>val_loss</th>\n",
       "      <th>val_acc</th>\n",
       "    </tr>\n",
       "  </thead>\n",
       "  <tbody>\n",
       "    <tr>\n",
       "      <th>0</th>\n",
       "      <td>0.508151</td>\n",
       "      <td>0.766353</td>\n",
       "      <td>0.520667</td>\n",
       "      <td>0.7493</td>\n",
       "      <td>0.478417</td>\n",
       "      <td>0.772434</td>\n",
       "    </tr>\n",
       "  </tbody>\n",
       "</table>\n",
       "</div>"
      ],
      "text/plain": [
       "   test_loss  test_acc  train_loss  train_acc  val_loss   val_acc\n",
       "0   0.508151  0.766353    0.520667     0.7493  0.478417  0.772434"
      ]
     },
     "execution_count": 74,
     "metadata": {},
     "output_type": "execute_result"
    }
   ],
   "source": [
    "ann3_metrics"
   ]
  },
  {
   "cell_type": "markdown",
   "metadata": {},
   "source": [
    "With a single hidden layer and 31 neurons on it, we can notice a slightly improvement in relation with the previous models. However it still being an overfitted neural network and there are not the results which we are looking for."
   ]
  },
  {
   "cell_type": "markdown",
   "metadata": {},
   "source": [
    "<a id=\"ann_thl\"></a>"
   ]
  },
  {
   "cell_type": "markdown",
   "metadata": {},
   "source": [
    "### 4.2.4 Artificial Neural Network Two Hidden Layer (not fully connected)\n",
    "\n",
    "The last neural network is the same than the third one but in this we aggregate another hidden layer of 15 units."
   ]
  },
  {
   "cell_type": "code",
   "execution_count": 75,
   "metadata": {},
   "outputs": [],
   "source": [
    "# Artificial Neural Network Two Hidden Layer (not fully connected)\n",
    "def ann_thl():\n",
    "    model = Sequential()\n",
    "    model.add(Dense(31, activation=\"relu\", input_shape=(n_cols,)))\n",
    "    model.add(Dense(15, activation=\"relu\"))\n",
    "    model.add(Dense(1, activation=\"sigmoid\"))\n",
    "    \n",
    "    model.compile(optimizer=\"adam\", loss='binary_crossentropy', metrics=[\"accuracy\"])\n",
    "    \n",
    "    return model"
   ]
  },
  {
   "cell_type": "code",
   "execution_count": 76,
   "metadata": {},
   "outputs": [
    {
     "data": {
      "image/png": "[encoded data removed]",
      "text/plain": [
       "<Figure size 432x288 with 1 Axes>"
      ]
     },
     "metadata": {
      "needs_background": "light"
     },
     "output_type": "display_data"
    },
    {
     "data": {
      "image/png": "[encoded data removed]",
      "text/plain": [
       "<Figure size 432x288 with 1 Axes>"
      ]
     },
     "metadata": {
      "needs_background": "light"
     },
     "output_type": "display_data"
    },
    {
     "name": "stdout",
     "output_type": "stream",
     "text": [
      "INFO:tensorflow:Assets written to: models/ann_thl-0.7456506490707397.sav/assets\n"
     ]
    }
   ],
   "source": [
    "(ann4, ann4_metrics) = train_neural_network(ann_thl, \"ann_thl\")"
   ]
  },
  {
   "cell_type": "markdown",
   "metadata": {},
   "source": [
    "Adding another hidden layer to the previous model does not improve the metrics."
   ]
  },
  {
   "cell_type": "code",
   "execution_count": 77,
   "metadata": {},
   "outputs": [
    {
     "data": {
      "text/html": [
       "<div>\n",
       "<style scoped>\n",
       "    .dataframe tbody tr th:only-of-type {\n",
       "        vertical-align: middle;\n",
       "    }\n",
       "\n",
       "    .dataframe tbody tr th {\n",
       "        vertical-align: top;\n",
       "    }\n",
       "\n",
       "    .dataframe thead th {\n",
       "        text-align: right;\n",
       "    }\n",
       "</style>\n",
       "<table border=\"1\" class=\"dataframe\">\n",
       "  <thead>\n",
       "    <tr style=\"text-align: right;\">\n",
       "      <th></th>\n",
       "      <th>test_loss</th>\n",
       "      <th>test_acc</th>\n",
       "      <th>train_loss</th>\n",
       "      <th>train_acc</th>\n",
       "      <th>val_loss</th>\n",
       "      <th>val_acc</th>\n",
       "    </tr>\n",
       "  </thead>\n",
       "  <tbody>\n",
       "    <tr>\n",
       "      <th>0</th>\n",
       "      <td>0.645395</td>\n",
       "      <td>0.745651</td>\n",
       "      <td>0.503235</td>\n",
       "      <td>0.7609</td>\n",
       "      <td>0.476624</td>\n",
       "      <td>0.777713</td>\n",
       "    </tr>\n",
       "  </tbody>\n",
       "</table>\n",
       "</div>"
      ],
      "text/plain": [
       "   test_loss  test_acc  train_loss  train_acc  val_loss   val_acc\n",
       "0   0.645395  0.745651    0.503235     0.7609  0.476624  0.777713"
      ]
     },
     "execution_count": 77,
     "metadata": {},
     "output_type": "execute_result"
    }
   ],
   "source": [
    "ann4_metrics"
   ]
  },
  {
   "cell_type": "markdown",
   "metadata": {},
   "source": [
    "<a id=\"ann_thl_d\"> </a>"
   ]
  },
  {
   "cell_type": "markdown",
   "metadata": {},
   "source": [
    "### 4.2.5 Artificial Neural Network with Dropout\n",
    "\n",
    "In the previous models we observer that we had a overfitting problem. That's the reason beacause in this last neural network we are gonna add a dropout layer. A dropout layer \"turn off\" a number of neurons according a specific probability. We will set this probability to .4."
   ]
  },
  {
   "cell_type": "code",
   "execution_count": 78,
   "metadata": {},
   "outputs": [],
   "source": [
    "# Artificial Neural Network Two Hidden Layer with Dropout\n",
    "def ann_thl_d():\n",
    "    model = Sequential()\n",
    "    model.add(Dense(10, activation=\"softmax\", input_shape=(n_cols,)))\n",
    "    model.add(Dense(10, activation=\"softmax\"))\n",
    "    model.add(Dropout(.4))\n",
    "    model.add(Dense(1, activation=\"sigmoid\"))\n",
    "    \n",
    "    optimizer = tf.keras.optimizers.SGD(learning_rate=0.3, momentum=0.9)\n",
    "    model.compile(optimizer=\"adam\", loss='binary_crossentropy', metrics=[\"accuracy\"])\n",
    "    \n",
    "    return model"
   ]
  },
  {
   "cell_type": "code",
   "execution_count": 79,
   "metadata": {},
   "outputs": [
    {
     "data": {
      "image/png": "[encoded data removed]",
      "text/plain": [
       "<Figure size 432x288 with 1 Axes>"
      ]
     },
     "metadata": {
      "needs_background": "light"
     },
     "output_type": "display_data"
    },
    {
     "data": {
      "image/png": "[encoded data removed]",
      "text/plain": [
       "<Figure size 432x288 with 1 Axes>"
      ]
     },
     "metadata": {
      "needs_background": "light"
     },
     "output_type": "display_data"
    },
    {
     "name": "stdout",
     "output_type": "stream",
     "text": [
      "INFO:tensorflow:Assets written to: models/ann_thl_d-0.7719206809997559.sav/assets\n"
     ]
    }
   ],
   "source": [
    "(ann5, ann5_metrics) = train_neural_network(ann_thl_d, \"ann_thl_d\")"
   ]
  },
  {
   "cell_type": "code",
   "execution_count": 80,
   "metadata": {},
   "outputs": [
    {
     "data": {
      "text/html": [
       "<div>\n",
       "<style scoped>\n",
       "    .dataframe tbody tr th:only-of-type {\n",
       "        vertical-align: middle;\n",
       "    }\n",
       "\n",
       "    .dataframe tbody tr th {\n",
       "        vertical-align: top;\n",
       "    }\n",
       "\n",
       "    .dataframe thead th {\n",
       "        text-align: right;\n",
       "    }\n",
       "</style>\n",
       "<table border=\"1\" class=\"dataframe\">\n",
       "  <thead>\n",
       "    <tr style=\"text-align: right;\">\n",
       "      <th></th>\n",
       "      <th>test_loss</th>\n",
       "      <th>test_acc</th>\n",
       "      <th>train_loss</th>\n",
       "      <th>train_acc</th>\n",
       "      <th>val_loss</th>\n",
       "      <th>val_acc</th>\n",
       "    </tr>\n",
       "  </thead>\n",
       "  <tbody>\n",
       "    <tr>\n",
       "      <th>0</th>\n",
       "      <td>0.465978</td>\n",
       "      <td>0.771921</td>\n",
       "      <td>0.645684</td>\n",
       "      <td>0.7147</td>\n",
       "      <td>0.609093</td>\n",
       "      <td>0.75044</td>\n",
       "    </tr>\n",
       "  </tbody>\n",
       "</table>\n",
       "</div>"
      ],
      "text/plain": [
       "   test_loss  test_acc  train_loss  train_acc  val_loss  val_acc\n",
       "0   0.465978  0.771921    0.645684     0.7147  0.609093  0.75044"
      ]
     },
     "execution_count": 80,
     "metadata": {},
     "output_type": "execute_result"
    }
   ],
   "source": [
    "ann5_metrics"
   ]
  },
  {
   "cell_type": "markdown",
   "metadata": {},
   "source": [
    "Now we can observe a improvement in the learning process of our model."
   ]
  },
  {
   "cell_type": "markdown",
   "metadata": {},
   "source": [
    "<a id=\"tree\"></a>"
   ]
  },
  {
   "cell_type": "markdown",
   "metadata": {},
   "source": [
    "## 4.3 Tree Classifier"
   ]
  },
  {
   "cell_type": "markdown",
   "metadata": {},
   "source": [
    "The fourth model we will train is a tree classifier provided by scikit learn package. We are gonna train it using two differents criterion algorithms: entropy and gini. The we will compare the accuracy of both models and we will save the best one."
   ]
  },
  {
   "cell_type": "markdown",
   "metadata": {},
   "source": [
    "First we define the models and fit them with training data"
   ]
  },
  {
   "cell_type": "code",
   "execution_count": 81,
   "metadata": {},
   "outputs": [
    {
     "data": {
      "text/plain": [
       "DecisionTreeClassifier()"
      ]
     },
     "execution_count": 81,
     "metadata": {},
     "output_type": "execute_result"
    }
   ],
   "source": [
    "tree_entropy = DecisionTreeClassifier(criterion=\"entropy\")\n",
    "tree_entropy.fit(X_train,y_train)\n",
    "tree_gini = DecisionTreeClassifier(criterion=\"gini\")\n",
    "tree_gini.fit(X_train,y_train)"
   ]
  },
  {
   "cell_type": "markdown",
   "metadata": {},
   "source": [
    "Now we measure the accuracy of the models"
   ]
  },
  {
   "cell_type": "code",
   "execution_count": 82,
   "metadata": {},
   "outputs": [],
   "source": [
    "entropy_predictions = tree_entropy.predict(X_test)\n",
    "entropy_accuracy = metrics.accuracy_score(entropy_predictions, y_test)\n",
    "gini_predictions = tree_gini.predict(X_test)\n",
    "gini_accuracy = metrics.accuracy_score(gini_predictions, y_test)"
   ]
  },
  {
   "cell_type": "markdown",
   "metadata": {},
   "source": [
    "And finally, comparing the results between the two models"
   ]
  },
  {
   "cell_type": "code",
   "execution_count": 83,
   "metadata": {},
   "outputs": [
    {
     "name": "stdout",
     "output_type": "stream",
     "text": [
      "Solving the problem with entropy as criterion give us a mean accuracy of = 0.72%\n",
      "Solving the problem with gini as criterion give us a mean accuracy of = 0.72%\n"
     ]
    }
   ],
   "source": [
    "print(\"Solving the problem with entropy as criterion give us a mean accuracy of = %.2f%%\" % entropy_accuracy)\n",
    "print(\"Solving the problem with gini as criterion give us a mean accuracy of = %.2f%%\" % gini_accuracy)"
   ]
  },
  {
   "cell_type": "markdown",
   "metadata": {},
   "source": [
    "As we can notice, solving the problem with gini criterion give us a slightly better accuracy than the entropy approach."
   ]
  },
  {
   "cell_type": "code",
   "execution_count": 84,
   "metadata": {},
   "outputs": [
    {
     "data": {
      "text/plain": [
       "['models/tree-0.721642310368824.sav']"
      ]
     },
     "execution_count": 84,
     "metadata": {},
     "output_type": "execute_result"
    }
   ],
   "source": [
    "tree_filename = \"models/tree-{}.sav\".format(gini_accuracy)\n",
    "joblib.dump(tree_gini, tree_filename)"
   ]
  },
  {
   "cell_type": "markdown",
   "metadata": {},
   "source": [
    "<a id=\"unseen_data\"></a>"
   ]
  },
  {
   "cell_type": "markdown",
   "metadata": {},
   "source": [
    "# 5. Loading Unseen Data\n",
    "\n",
    "This final section has the idea of test our models with unseen data"
   ]
  },
  {
   "cell_type": "code",
   "execution_count": 85,
   "metadata": {},
   "outputs": [
    {
     "data": {
      "text/html": [
       "<div>\n",
       "<style scoped>\n",
       "    .dataframe tbody tr th:only-of-type {\n",
       "        vertical-align: middle;\n",
       "    }\n",
       "\n",
       "    .dataframe tbody tr th {\n",
       "        vertical-align: top;\n",
       "    }\n",
       "\n",
       "    .dataframe thead th {\n",
       "        text-align: right;\n",
       "    }\n",
       "</style>\n",
       "<table border=\"1\" class=\"dataframe\">\n",
       "  <thead>\n",
       "    <tr style=\"text-align: right;\">\n",
       "      <th></th>\n",
       "      <th>enrollee_id</th>\n",
       "      <th>city</th>\n",
       "      <th>city_development_index</th>\n",
       "      <th>gender</th>\n",
       "      <th>relevent_experience</th>\n",
       "      <th>enrolled_university</th>\n",
       "      <th>education_level</th>\n",
       "      <th>major_discipline</th>\n",
       "      <th>experience</th>\n",
       "      <th>company_size</th>\n",
       "      <th>company_type</th>\n",
       "      <th>last_new_job</th>\n",
       "      <th>training_hours</th>\n",
       "    </tr>\n",
       "  </thead>\n",
       "  <tbody>\n",
       "    <tr>\n",
       "      <th>0</th>\n",
       "      <td>32403</td>\n",
       "      <td>city_41</td>\n",
       "      <td>0.827</td>\n",
       "      <td>Male</td>\n",
       "      <td>Has relevent experience</td>\n",
       "      <td>Full time course</td>\n",
       "      <td>Graduate</td>\n",
       "      <td>STEM</td>\n",
       "      <td>9</td>\n",
       "      <td>&lt;10</td>\n",
       "      <td>NaN</td>\n",
       "      <td>1</td>\n",
       "      <td>21</td>\n",
       "    </tr>\n",
       "    <tr>\n",
       "      <th>1</th>\n",
       "      <td>9858</td>\n",
       "      <td>city_103</td>\n",
       "      <td>0.920</td>\n",
       "      <td>Female</td>\n",
       "      <td>Has relevent experience</td>\n",
       "      <td>no_enrollment</td>\n",
       "      <td>Graduate</td>\n",
       "      <td>STEM</td>\n",
       "      <td>5</td>\n",
       "      <td>NaN</td>\n",
       "      <td>Pvt Ltd</td>\n",
       "      <td>1</td>\n",
       "      <td>98</td>\n",
       "    </tr>\n",
       "    <tr>\n",
       "      <th>2</th>\n",
       "      <td>31806</td>\n",
       "      <td>city_21</td>\n",
       "      <td>0.624</td>\n",
       "      <td>Male</td>\n",
       "      <td>No relevent experience</td>\n",
       "      <td>no_enrollment</td>\n",
       "      <td>High School</td>\n",
       "      <td>NaN</td>\n",
       "      <td>&lt;1</td>\n",
       "      <td>NaN</td>\n",
       "      <td>Pvt Ltd</td>\n",
       "      <td>never</td>\n",
       "      <td>15</td>\n",
       "    </tr>\n",
       "    <tr>\n",
       "      <th>3</th>\n",
       "      <td>27385</td>\n",
       "      <td>city_13</td>\n",
       "      <td>0.827</td>\n",
       "      <td>Male</td>\n",
       "      <td>Has relevent experience</td>\n",
       "      <td>no_enrollment</td>\n",
       "      <td>Masters</td>\n",
       "      <td>STEM</td>\n",
       "      <td>11</td>\n",
       "      <td>10/49</td>\n",
       "      <td>Pvt Ltd</td>\n",
       "      <td>1</td>\n",
       "      <td>39</td>\n",
       "    </tr>\n",
       "    <tr>\n",
       "      <th>4</th>\n",
       "      <td>27724</td>\n",
       "      <td>city_103</td>\n",
       "      <td>0.920</td>\n",
       "      <td>Male</td>\n",
       "      <td>Has relevent experience</td>\n",
       "      <td>no_enrollment</td>\n",
       "      <td>Graduate</td>\n",
       "      <td>STEM</td>\n",
       "      <td>&gt;20</td>\n",
       "      <td>10000+</td>\n",
       "      <td>Pvt Ltd</td>\n",
       "      <td>&gt;4</td>\n",
       "      <td>72</td>\n",
       "    </tr>\n",
       "  </tbody>\n",
       "</table>\n",
       "</div>"
      ],
      "text/plain": [
       "   enrollee_id      city  city_development_index  gender  \\\n",
       "0        32403   city_41                   0.827    Male   \n",
       "1         9858  city_103                   0.920  Female   \n",
       "2        31806   city_21                   0.624    Male   \n",
       "3        27385   city_13                   0.827    Male   \n",
       "4        27724  city_103                   0.920    Male   \n",
       "\n",
       "       relevent_experience enrolled_university education_level  \\\n",
       "0  Has relevent experience    Full time course        Graduate   \n",
       "1  Has relevent experience       no_enrollment        Graduate   \n",
       "2   No relevent experience       no_enrollment     High School   \n",
       "3  Has relevent experience       no_enrollment         Masters   \n",
       "4  Has relevent experience       no_enrollment        Graduate   \n",
       "\n",
       "  major_discipline experience company_size company_type last_new_job  \\\n",
       "0             STEM          9          <10          NaN            1   \n",
       "1             STEM          5          NaN      Pvt Ltd            1   \n",
       "2              NaN         <1          NaN      Pvt Ltd        never   \n",
       "3             STEM         11        10/49      Pvt Ltd            1   \n",
       "4             STEM        >20       10000+      Pvt Ltd           >4   \n",
       "\n",
       "   training_hours  \n",
       "0              21  \n",
       "1              98  \n",
       "2              15  \n",
       "3              39  \n",
       "4              72  "
      ]
     },
     "execution_count": 85,
     "metadata": {},
     "output_type": "execute_result"
    }
   ],
   "source": [
    "df = pd.read_csv(\"datasets/aug_test.csv\")\n",
    "df.head()"
   ]
  },
  {
   "cell_type": "markdown",
   "metadata": {},
   "source": [
    "As we see, this data does not have the target column."
   ]
  },
  {
   "cell_type": "code",
   "execution_count": 86,
   "metadata": {},
   "outputs": [
    {
     "data": {
      "text/plain": [
       "(2129, 13)"
      ]
     },
     "execution_count": 86,
     "metadata": {},
     "output_type": "execute_result"
    }
   ],
   "source": [
    "df.shape"
   ]
  },
  {
   "cell_type": "code",
   "execution_count": 87,
   "metadata": {},
   "outputs": [],
   "source": [
    "def extracting_features(df):\n",
    "    columns_to_dummy = ['gender', 'relevent_experience', 'enrolled_university', 'education_level',\n",
    "                   'major_discipline', 'experience', 'company_size', 'company_type', 'last_new_job']\n",
    "\n",
    "    dummies_df = pd.get_dummies(df[columns_to_dummy])\n",
    "    features_to_std = [\"city_development_index\", \"training_hours\"]\n",
    "    std_features = pd.DataFrame(StandardScaler().fit_transform(df[features_to_std]), columns=features_to_std)\n",
    "    X = pd.concat([std_features, dummies_df], axis=1)\n",
    "    \n",
    "    return X"
   ]
  },
  {
   "cell_type": "code",
   "execution_count": 88,
   "metadata": {},
   "outputs": [
    {
     "data": {
      "text/html": [
       "<div>\n",
       "<style scoped>\n",
       "    .dataframe tbody tr th:only-of-type {\n",
       "        vertical-align: middle;\n",
       "    }\n",
       "\n",
       "    .dataframe tbody tr th {\n",
       "        vertical-align: top;\n",
       "    }\n",
       "\n",
       "    .dataframe thead th {\n",
       "        text-align: right;\n",
       "    }\n",
       "</style>\n",
       "<table border=\"1\" class=\"dataframe\">\n",
       "  <thead>\n",
       "    <tr style=\"text-align: right;\">\n",
       "      <th></th>\n",
       "      <th>enrollee_id</th>\n",
       "      <th>city</th>\n",
       "      <th>city_development_index</th>\n",
       "      <th>gender</th>\n",
       "      <th>relevent_experience</th>\n",
       "      <th>enrolled_university</th>\n",
       "      <th>education_level</th>\n",
       "      <th>major_discipline</th>\n",
       "      <th>experience</th>\n",
       "      <th>company_size</th>\n",
       "      <th>company_type</th>\n",
       "      <th>last_new_job</th>\n",
       "      <th>training_hours</th>\n",
       "    </tr>\n",
       "  </thead>\n",
       "  <tbody>\n",
       "    <tr>\n",
       "      <th>0</th>\n",
       "      <td>32403</td>\n",
       "      <td>city_41</td>\n",
       "      <td>0.827</td>\n",
       "      <td>Male</td>\n",
       "      <td>Has relevent experience</td>\n",
       "      <td>Full time course</td>\n",
       "      <td>Graduate</td>\n",
       "      <td>STEM</td>\n",
       "      <td>9</td>\n",
       "      <td>&lt;10</td>\n",
       "      <td>NaN</td>\n",
       "      <td>1</td>\n",
       "      <td>21</td>\n",
       "    </tr>\n",
       "    <tr>\n",
       "      <th>1</th>\n",
       "      <td>9858</td>\n",
       "      <td>city_103</td>\n",
       "      <td>0.920</td>\n",
       "      <td>Female</td>\n",
       "      <td>Has relevent experience</td>\n",
       "      <td>no_enrollment</td>\n",
       "      <td>Graduate</td>\n",
       "      <td>STEM</td>\n",
       "      <td>5</td>\n",
       "      <td>NaN</td>\n",
       "      <td>Pvt Ltd</td>\n",
       "      <td>1</td>\n",
       "      <td>98</td>\n",
       "    </tr>\n",
       "    <tr>\n",
       "      <th>2</th>\n",
       "      <td>31806</td>\n",
       "      <td>city_21</td>\n",
       "      <td>0.624</td>\n",
       "      <td>Male</td>\n",
       "      <td>No relevent experience</td>\n",
       "      <td>no_enrollment</td>\n",
       "      <td>High School</td>\n",
       "      <td>NaN</td>\n",
       "      <td>&lt;1</td>\n",
       "      <td>NaN</td>\n",
       "      <td>Pvt Ltd</td>\n",
       "      <td>never</td>\n",
       "      <td>15</td>\n",
       "    </tr>\n",
       "    <tr>\n",
       "      <th>3</th>\n",
       "      <td>27385</td>\n",
       "      <td>city_13</td>\n",
       "      <td>0.827</td>\n",
       "      <td>Male</td>\n",
       "      <td>Has relevent experience</td>\n",
       "      <td>no_enrollment</td>\n",
       "      <td>Masters</td>\n",
       "      <td>STEM</td>\n",
       "      <td>11</td>\n",
       "      <td>10/49</td>\n",
       "      <td>Pvt Ltd</td>\n",
       "      <td>1</td>\n",
       "      <td>39</td>\n",
       "    </tr>\n",
       "    <tr>\n",
       "      <th>4</th>\n",
       "      <td>27724</td>\n",
       "      <td>city_103</td>\n",
       "      <td>0.920</td>\n",
       "      <td>Male</td>\n",
       "      <td>Has relevent experience</td>\n",
       "      <td>no_enrollment</td>\n",
       "      <td>Graduate</td>\n",
       "      <td>STEM</td>\n",
       "      <td>&gt;20</td>\n",
       "      <td>10000+</td>\n",
       "      <td>Pvt Ltd</td>\n",
       "      <td>&gt;4</td>\n",
       "      <td>72</td>\n",
       "    </tr>\n",
       "  </tbody>\n",
       "</table>\n",
       "</div>"
      ],
      "text/plain": [
       "   enrollee_id      city  city_development_index  gender  \\\n",
       "0        32403   city_41                   0.827    Male   \n",
       "1         9858  city_103                   0.920  Female   \n",
       "2        31806   city_21                   0.624    Male   \n",
       "3        27385   city_13                   0.827    Male   \n",
       "4        27724  city_103                   0.920    Male   \n",
       "\n",
       "       relevent_experience enrolled_university education_level  \\\n",
       "0  Has relevent experience    Full time course        Graduate   \n",
       "1  Has relevent experience       no_enrollment        Graduate   \n",
       "2   No relevent experience       no_enrollment     High School   \n",
       "3  Has relevent experience       no_enrollment         Masters   \n",
       "4  Has relevent experience       no_enrollment        Graduate   \n",
       "\n",
       "  major_discipline experience company_size company_type last_new_job  \\\n",
       "0             STEM          9          <10          NaN            1   \n",
       "1             STEM          5          NaN      Pvt Ltd            1   \n",
       "2              NaN         <1          NaN      Pvt Ltd        never   \n",
       "3             STEM         11        10/49      Pvt Ltd            1   \n",
       "4             STEM        >20       10000+      Pvt Ltd           >4   \n",
       "\n",
       "   training_hours  \n",
       "0              21  \n",
       "1              98  \n",
       "2              15  \n",
       "3              39  \n",
       "4              72  "
      ]
     },
     "execution_count": 88,
     "metadata": {},
     "output_type": "execute_result"
    }
   ],
   "source": [
    "X = extracting_features(df)\n",
    "df.head()"
   ]
  },
  {
   "cell_type": "code",
   "execution_count": 89,
   "metadata": {},
   "outputs": [],
   "source": [
    "def compile_model(X, df, model, name, is_ann):\n",
    "    prediction =  model.predict_classes(X) if is_ann else model.predict(X)\n",
    "    probability = model.predict_proba(X) if is_ann else model.predict_proba(X)[:, 1]\n",
    "    \n",
    "    df[\"{}_proba\".format(name)] = probability\n",
    "    df[\"{}_prediction\".format(name)] = prediction"
   ]
  },
  {
   "cell_type": "code",
   "execution_count": 90,
   "metadata": {},
   "outputs": [
    {
     "data": {
      "text/html": [
       "<div>\n",
       "<style scoped>\n",
       "    .dataframe tbody tr th:only-of-type {\n",
       "        vertical-align: middle;\n",
       "    }\n",
       "\n",
       "    .dataframe tbody tr th {\n",
       "        vertical-align: top;\n",
       "    }\n",
       "\n",
       "    .dataframe thead th {\n",
       "        text-align: right;\n",
       "    }\n",
       "</style>\n",
       "<table border=\"1\" class=\"dataframe\">\n",
       "  <thead>\n",
       "    <tr style=\"text-align: right;\">\n",
       "      <th></th>\n",
       "      <th>lr_proba</th>\n",
       "      <th>lr_prediction</th>\n",
       "    </tr>\n",
       "  </thead>\n",
       "  <tbody>\n",
       "    <tr>\n",
       "      <th>0</th>\n",
       "      <td>0.232790</td>\n",
       "      <td>0.0</td>\n",
       "    </tr>\n",
       "    <tr>\n",
       "      <th>1</th>\n",
       "      <td>0.248598</td>\n",
       "      <td>0.0</td>\n",
       "    </tr>\n",
       "    <tr>\n",
       "      <th>2</th>\n",
       "      <td>0.374901</td>\n",
       "      <td>0.0</td>\n",
       "    </tr>\n",
       "    <tr>\n",
       "      <th>3</th>\n",
       "      <td>0.192899</td>\n",
       "      <td>0.0</td>\n",
       "    </tr>\n",
       "    <tr>\n",
       "      <th>4</th>\n",
       "      <td>0.097170</td>\n",
       "      <td>0.0</td>\n",
       "    </tr>\n",
       "  </tbody>\n",
       "</table>\n",
       "</div>"
      ],
      "text/plain": [
       "   lr_proba  lr_prediction\n",
       "0  0.232790            0.0\n",
       "1  0.248598            0.0\n",
       "2  0.374901            0.0\n",
       "3  0.192899            0.0\n",
       "4  0.097170            0.0"
      ]
     },
     "execution_count": 90,
     "metadata": {},
     "output_type": "execute_result"
    }
   ],
   "source": [
    "compile_model(X, df, lr, \"lr\", False)\n",
    "df.head().loc[:, \"lr_proba\":]"
   ]
  },
  {
   "cell_type": "code",
   "execution_count": 91,
   "metadata": {},
   "outputs": [
    {
     "name": "stdout",
     "output_type": "stream",
     "text": [
      "WARNING:tensorflow:From <ipython-input-89-e7d11c6a647b>:2: Sequential.predict_classes (from tensorflow.python.keras.engine.sequential) is deprecated and will be removed after 2021-01-01.\n",
      "Instructions for updating:\n",
      "Please use instead:* `np.argmax(model.predict(x), axis=-1)`,   if your model does multi-class classification   (e.g. if it uses a `softmax` last-layer activation).* `(model.predict(x) > 0.5).astype(\"int32\")`,   if your model does binary classification   (e.g. if it uses a `sigmoid` last-layer activation).\n",
      "WARNING:tensorflow:From <ipython-input-89-e7d11c6a647b>:3: Sequential.predict_proba (from tensorflow.python.keras.engine.sequential) is deprecated and will be removed after 2021-01-01.\n",
      "Instructions for updating:\n",
      "Please use `model.predict()` instead.\n"
     ]
    },
    {
     "data": {
      "text/html": [
       "<div>\n",
       "<style scoped>\n",
       "    .dataframe tbody tr th:only-of-type {\n",
       "        vertical-align: middle;\n",
       "    }\n",
       "\n",
       "    .dataframe tbody tr th {\n",
       "        vertical-align: top;\n",
       "    }\n",
       "\n",
       "    .dataframe thead th {\n",
       "        text-align: right;\n",
       "    }\n",
       "</style>\n",
       "<table border=\"1\" class=\"dataframe\">\n",
       "  <thead>\n",
       "    <tr style=\"text-align: right;\">\n",
       "      <th></th>\n",
       "      <th>lr_proba</th>\n",
       "      <th>lr_prediction</th>\n",
       "      <th>ann1_proba</th>\n",
       "      <th>ann1_prediction</th>\n",
       "    </tr>\n",
       "  </thead>\n",
       "  <tbody>\n",
       "    <tr>\n",
       "      <th>0</th>\n",
       "      <td>0.232790</td>\n",
       "      <td>0.0</td>\n",
       "      <td>0.055971</td>\n",
       "      <td>0</td>\n",
       "    </tr>\n",
       "    <tr>\n",
       "      <th>1</th>\n",
       "      <td>0.248598</td>\n",
       "      <td>0.0</td>\n",
       "      <td>0.066403</td>\n",
       "      <td>0</td>\n",
       "    </tr>\n",
       "    <tr>\n",
       "      <th>2</th>\n",
       "      <td>0.374901</td>\n",
       "      <td>0.0</td>\n",
       "      <td>0.317752</td>\n",
       "      <td>0</td>\n",
       "    </tr>\n",
       "    <tr>\n",
       "      <th>3</th>\n",
       "      <td>0.192899</td>\n",
       "      <td>0.0</td>\n",
       "      <td>0.070699</td>\n",
       "      <td>0</td>\n",
       "    </tr>\n",
       "    <tr>\n",
       "      <th>4</th>\n",
       "      <td>0.097170</td>\n",
       "      <td>0.0</td>\n",
       "      <td>0.073236</td>\n",
       "      <td>0</td>\n",
       "    </tr>\n",
       "  </tbody>\n",
       "</table>\n",
       "</div>"
      ],
      "text/plain": [
       "   lr_proba  lr_prediction  ann1_proba  ann1_prediction\n",
       "0  0.232790            0.0    0.055971                0\n",
       "1  0.248598            0.0    0.066403                0\n",
       "2  0.374901            0.0    0.317752                0\n",
       "3  0.192899            0.0    0.070699                0\n",
       "4  0.097170            0.0    0.073236                0"
      ]
     },
     "execution_count": 91,
     "metadata": {},
     "output_type": "execute_result"
    }
   ],
   "source": [
    "compile_model(X, df, ann1, \"ann1\", True)\n",
    "df.head().loc[:, \"lr_proba\":]"
   ]
  },
  {
   "cell_type": "code",
   "execution_count": 92,
   "metadata": {},
   "outputs": [
    {
     "data": {
      "text/html": [
       "<div>\n",
       "<style scoped>\n",
       "    .dataframe tbody tr th:only-of-type {\n",
       "        vertical-align: middle;\n",
       "    }\n",
       "\n",
       "    .dataframe tbody tr th {\n",
       "        vertical-align: top;\n",
       "    }\n",
       "\n",
       "    .dataframe thead th {\n",
       "        text-align: right;\n",
       "    }\n",
       "</style>\n",
       "<table border=\"1\" class=\"dataframe\">\n",
       "  <thead>\n",
       "    <tr style=\"text-align: right;\">\n",
       "      <th></th>\n",
       "      <th>lr_proba</th>\n",
       "      <th>lr_prediction</th>\n",
       "      <th>ann1_proba</th>\n",
       "      <th>ann1_prediction</th>\n",
       "      <th>ann2_proba</th>\n",
       "      <th>ann2_prediction</th>\n",
       "    </tr>\n",
       "  </thead>\n",
       "  <tbody>\n",
       "    <tr>\n",
       "      <th>0</th>\n",
       "      <td>0.232790</td>\n",
       "      <td>0.0</td>\n",
       "      <td>0.055971</td>\n",
       "      <td>0</td>\n",
       "      <td>0.015358</td>\n",
       "      <td>0</td>\n",
       "    </tr>\n",
       "    <tr>\n",
       "      <th>1</th>\n",
       "      <td>0.248598</td>\n",
       "      <td>0.0</td>\n",
       "      <td>0.066403</td>\n",
       "      <td>0</td>\n",
       "      <td>0.002427</td>\n",
       "      <td>0</td>\n",
       "    </tr>\n",
       "    <tr>\n",
       "      <th>2</th>\n",
       "      <td>0.374901</td>\n",
       "      <td>0.0</td>\n",
       "      <td>0.317752</td>\n",
       "      <td>0</td>\n",
       "      <td>0.163171</td>\n",
       "      <td>0</td>\n",
       "    </tr>\n",
       "    <tr>\n",
       "      <th>3</th>\n",
       "      <td>0.192899</td>\n",
       "      <td>0.0</td>\n",
       "      <td>0.070699</td>\n",
       "      <td>0</td>\n",
       "      <td>0.000979</td>\n",
       "      <td>0</td>\n",
       "    </tr>\n",
       "    <tr>\n",
       "      <th>4</th>\n",
       "      <td>0.097170</td>\n",
       "      <td>0.0</td>\n",
       "      <td>0.073236</td>\n",
       "      <td>0</td>\n",
       "      <td>0.256165</td>\n",
       "      <td>0</td>\n",
       "    </tr>\n",
       "  </tbody>\n",
       "</table>\n",
       "</div>"
      ],
      "text/plain": [
       "   lr_proba  lr_prediction  ann1_proba  ann1_prediction  ann2_proba  \\\n",
       "0  0.232790            0.0    0.055971                0    0.015358   \n",
       "1  0.248598            0.0    0.066403                0    0.002427   \n",
       "2  0.374901            0.0    0.317752                0    0.163171   \n",
       "3  0.192899            0.0    0.070699                0    0.000979   \n",
       "4  0.097170            0.0    0.073236                0    0.256165   \n",
       "\n",
       "   ann2_prediction  \n",
       "0                0  \n",
       "1                0  \n",
       "2                0  \n",
       "3                0  \n",
       "4                0  "
      ]
     },
     "execution_count": 92,
     "metadata": {},
     "output_type": "execute_result"
    }
   ],
   "source": [
    "compile_model(X, df, ann2, \"ann2\", True)\n",
    "df.head().loc[:, \"lr_proba\":]"
   ]
  },
  {
   "cell_type": "code",
   "execution_count": 93,
   "metadata": {},
   "outputs": [
    {
     "data": {
      "text/html": [
       "<div>\n",
       "<style scoped>\n",
       "    .dataframe tbody tr th:only-of-type {\n",
       "        vertical-align: middle;\n",
       "    }\n",
       "\n",
       "    .dataframe tbody tr th {\n",
       "        vertical-align: top;\n",
       "    }\n",
       "\n",
       "    .dataframe thead th {\n",
       "        text-align: right;\n",
       "    }\n",
       "</style>\n",
       "<table border=\"1\" class=\"dataframe\">\n",
       "  <thead>\n",
       "    <tr style=\"text-align: right;\">\n",
       "      <th></th>\n",
       "      <th>lr_proba</th>\n",
       "      <th>lr_prediction</th>\n",
       "      <th>ann1_proba</th>\n",
       "      <th>ann1_prediction</th>\n",
       "      <th>ann2_proba</th>\n",
       "      <th>ann2_prediction</th>\n",
       "      <th>ann3_proba</th>\n",
       "      <th>ann3_prediction</th>\n",
       "    </tr>\n",
       "  </thead>\n",
       "  <tbody>\n",
       "    <tr>\n",
       "      <th>0</th>\n",
       "      <td>0.232790</td>\n",
       "      <td>0.0</td>\n",
       "      <td>0.055971</td>\n",
       "      <td>0</td>\n",
       "      <td>0.015358</td>\n",
       "      <td>0</td>\n",
       "      <td>0.160744</td>\n",
       "      <td>0</td>\n",
       "    </tr>\n",
       "    <tr>\n",
       "      <th>1</th>\n",
       "      <td>0.248598</td>\n",
       "      <td>0.0</td>\n",
       "      <td>0.066403</td>\n",
       "      <td>0</td>\n",
       "      <td>0.002427</td>\n",
       "      <td>0</td>\n",
       "      <td>0.100713</td>\n",
       "      <td>0</td>\n",
       "    </tr>\n",
       "    <tr>\n",
       "      <th>2</th>\n",
       "      <td>0.374901</td>\n",
       "      <td>0.0</td>\n",
       "      <td>0.317752</td>\n",
       "      <td>0</td>\n",
       "      <td>0.163171</td>\n",
       "      <td>0</td>\n",
       "      <td>0.229806</td>\n",
       "      <td>0</td>\n",
       "    </tr>\n",
       "    <tr>\n",
       "      <th>3</th>\n",
       "      <td>0.192899</td>\n",
       "      <td>0.0</td>\n",
       "      <td>0.070699</td>\n",
       "      <td>0</td>\n",
       "      <td>0.000979</td>\n",
       "      <td>0</td>\n",
       "      <td>0.056118</td>\n",
       "      <td>0</td>\n",
       "    </tr>\n",
       "    <tr>\n",
       "      <th>4</th>\n",
       "      <td>0.097170</td>\n",
       "      <td>0.0</td>\n",
       "      <td>0.073236</td>\n",
       "      <td>0</td>\n",
       "      <td>0.256165</td>\n",
       "      <td>0</td>\n",
       "      <td>0.060446</td>\n",
       "      <td>0</td>\n",
       "    </tr>\n",
       "  </tbody>\n",
       "</table>\n",
       "</div>"
      ],
      "text/plain": [
       "   lr_proba  lr_prediction  ann1_proba  ann1_prediction  ann2_proba  \\\n",
       "0  0.232790            0.0    0.055971                0    0.015358   \n",
       "1  0.248598            0.0    0.066403                0    0.002427   \n",
       "2  0.374901            0.0    0.317752                0    0.163171   \n",
       "3  0.192899            0.0    0.070699                0    0.000979   \n",
       "4  0.097170            0.0    0.073236                0    0.256165   \n",
       "\n",
       "   ann2_prediction  ann3_proba  ann3_prediction  \n",
       "0                0    0.160744                0  \n",
       "1                0    0.100713                0  \n",
       "2                0    0.229806                0  \n",
       "3                0    0.056118                0  \n",
       "4                0    0.060446                0  "
      ]
     },
     "execution_count": 93,
     "metadata": {},
     "output_type": "execute_result"
    }
   ],
   "source": [
    "compile_model(X, df, ann3, \"ann3\", True)\n",
    "df.head().loc[:, \"lr_proba\":]"
   ]
  },
  {
   "cell_type": "code",
   "execution_count": 94,
   "metadata": {},
   "outputs": [
    {
     "data": {
      "text/html": [
       "<div>\n",
       "<style scoped>\n",
       "    .dataframe tbody tr th:only-of-type {\n",
       "        vertical-align: middle;\n",
       "    }\n",
       "\n",
       "    .dataframe tbody tr th {\n",
       "        vertical-align: top;\n",
       "    }\n",
       "\n",
       "    .dataframe thead th {\n",
       "        text-align: right;\n",
       "    }\n",
       "</style>\n",
       "<table border=\"1\" class=\"dataframe\">\n",
       "  <thead>\n",
       "    <tr style=\"text-align: right;\">\n",
       "      <th></th>\n",
       "      <th>lr_proba</th>\n",
       "      <th>lr_prediction</th>\n",
       "      <th>ann1_proba</th>\n",
       "      <th>ann1_prediction</th>\n",
       "      <th>ann2_proba</th>\n",
       "      <th>ann2_prediction</th>\n",
       "      <th>ann3_proba</th>\n",
       "      <th>ann3_prediction</th>\n",
       "      <th>ann4_proba</th>\n",
       "      <th>ann4_prediction</th>\n",
       "    </tr>\n",
       "  </thead>\n",
       "  <tbody>\n",
       "    <tr>\n",
       "      <th>0</th>\n",
       "      <td>0.232790</td>\n",
       "      <td>0.0</td>\n",
       "      <td>0.055971</td>\n",
       "      <td>0</td>\n",
       "      <td>0.015358</td>\n",
       "      <td>0</td>\n",
       "      <td>0.160744</td>\n",
       "      <td>0</td>\n",
       "      <td>0.056704</td>\n",
       "      <td>0</td>\n",
       "    </tr>\n",
       "    <tr>\n",
       "      <th>1</th>\n",
       "      <td>0.248598</td>\n",
       "      <td>0.0</td>\n",
       "      <td>0.066403</td>\n",
       "      <td>0</td>\n",
       "      <td>0.002427</td>\n",
       "      <td>0</td>\n",
       "      <td>0.100713</td>\n",
       "      <td>0</td>\n",
       "      <td>0.018883</td>\n",
       "      <td>0</td>\n",
       "    </tr>\n",
       "    <tr>\n",
       "      <th>2</th>\n",
       "      <td>0.374901</td>\n",
       "      <td>0.0</td>\n",
       "      <td>0.317752</td>\n",
       "      <td>0</td>\n",
       "      <td>0.163171</td>\n",
       "      <td>0</td>\n",
       "      <td>0.229806</td>\n",
       "      <td>0</td>\n",
       "      <td>0.336855</td>\n",
       "      <td>0</td>\n",
       "    </tr>\n",
       "    <tr>\n",
       "      <th>3</th>\n",
       "      <td>0.192899</td>\n",
       "      <td>0.0</td>\n",
       "      <td>0.070699</td>\n",
       "      <td>0</td>\n",
       "      <td>0.000979</td>\n",
       "      <td>0</td>\n",
       "      <td>0.056118</td>\n",
       "      <td>0</td>\n",
       "      <td>0.016298</td>\n",
       "      <td>0</td>\n",
       "    </tr>\n",
       "    <tr>\n",
       "      <th>4</th>\n",
       "      <td>0.097170</td>\n",
       "      <td>0.0</td>\n",
       "      <td>0.073236</td>\n",
       "      <td>0</td>\n",
       "      <td>0.256165</td>\n",
       "      <td>0</td>\n",
       "      <td>0.060446</td>\n",
       "      <td>0</td>\n",
       "      <td>0.161595</td>\n",
       "      <td>0</td>\n",
       "    </tr>\n",
       "  </tbody>\n",
       "</table>\n",
       "</div>"
      ],
      "text/plain": [
       "   lr_proba  lr_prediction  ann1_proba  ann1_prediction  ann2_proba  \\\n",
       "0  0.232790            0.0    0.055971                0    0.015358   \n",
       "1  0.248598            0.0    0.066403                0    0.002427   \n",
       "2  0.374901            0.0    0.317752                0    0.163171   \n",
       "3  0.192899            0.0    0.070699                0    0.000979   \n",
       "4  0.097170            0.0    0.073236                0    0.256165   \n",
       "\n",
       "   ann2_prediction  ann3_proba  ann3_prediction  ann4_proba  ann4_prediction  \n",
       "0                0    0.160744                0    0.056704                0  \n",
       "1                0    0.100713                0    0.018883                0  \n",
       "2                0    0.229806                0    0.336855                0  \n",
       "3                0    0.056118                0    0.016298                0  \n",
       "4                0    0.060446                0    0.161595                0  "
      ]
     },
     "execution_count": 94,
     "metadata": {},
     "output_type": "execute_result"
    }
   ],
   "source": [
    "compile_model(X, df, ann4, \"ann4\", True)\n",
    "df.head().loc[:, \"lr_proba\":]"
   ]
  },
  {
   "cell_type": "code",
   "execution_count": 95,
   "metadata": {},
   "outputs": [
    {
     "data": {
      "text/html": [
       "<div>\n",
       "<style scoped>\n",
       "    .dataframe tbody tr th:only-of-type {\n",
       "        vertical-align: middle;\n",
       "    }\n",
       "\n",
       "    .dataframe tbody tr th {\n",
       "        vertical-align: top;\n",
       "    }\n",
       "\n",
       "    .dataframe thead th {\n",
       "        text-align: right;\n",
       "    }\n",
       "</style>\n",
       "<table border=\"1\" class=\"dataframe\">\n",
       "  <thead>\n",
       "    <tr style=\"text-align: right;\">\n",
       "      <th></th>\n",
       "      <th>lr_proba</th>\n",
       "      <th>lr_prediction</th>\n",
       "      <th>ann1_proba</th>\n",
       "      <th>ann1_prediction</th>\n",
       "      <th>ann2_proba</th>\n",
       "      <th>ann2_prediction</th>\n",
       "      <th>ann3_proba</th>\n",
       "      <th>ann3_prediction</th>\n",
       "      <th>ann4_proba</th>\n",
       "      <th>ann4_prediction</th>\n",
       "      <th>ann5_proba</th>\n",
       "      <th>ann5_prediction</th>\n",
       "    </tr>\n",
       "  </thead>\n",
       "  <tbody>\n",
       "    <tr>\n",
       "      <th>0</th>\n",
       "      <td>0.232790</td>\n",
       "      <td>0.0</td>\n",
       "      <td>0.055971</td>\n",
       "      <td>0</td>\n",
       "      <td>0.015358</td>\n",
       "      <td>0</td>\n",
       "      <td>0.160744</td>\n",
       "      <td>0</td>\n",
       "      <td>0.056704</td>\n",
       "      <td>0</td>\n",
       "      <td>0.142054</td>\n",
       "      <td>0</td>\n",
       "    </tr>\n",
       "    <tr>\n",
       "      <th>1</th>\n",
       "      <td>0.248598</td>\n",
       "      <td>0.0</td>\n",
       "      <td>0.066403</td>\n",
       "      <td>0</td>\n",
       "      <td>0.002427</td>\n",
       "      <td>0</td>\n",
       "      <td>0.100713</td>\n",
       "      <td>0</td>\n",
       "      <td>0.018883</td>\n",
       "      <td>0</td>\n",
       "      <td>0.094695</td>\n",
       "      <td>0</td>\n",
       "    </tr>\n",
       "    <tr>\n",
       "      <th>2</th>\n",
       "      <td>0.374901</td>\n",
       "      <td>0.0</td>\n",
       "      <td>0.317752</td>\n",
       "      <td>0</td>\n",
       "      <td>0.163171</td>\n",
       "      <td>0</td>\n",
       "      <td>0.229806</td>\n",
       "      <td>0</td>\n",
       "      <td>0.336855</td>\n",
       "      <td>0</td>\n",
       "      <td>0.517741</td>\n",
       "      <td>1</td>\n",
       "    </tr>\n",
       "    <tr>\n",
       "      <th>3</th>\n",
       "      <td>0.192899</td>\n",
       "      <td>0.0</td>\n",
       "      <td>0.070699</td>\n",
       "      <td>0</td>\n",
       "      <td>0.000979</td>\n",
       "      <td>0</td>\n",
       "      <td>0.056118</td>\n",
       "      <td>0</td>\n",
       "      <td>0.016298</td>\n",
       "      <td>0</td>\n",
       "      <td>0.088935</td>\n",
       "      <td>0</td>\n",
       "    </tr>\n",
       "    <tr>\n",
       "      <th>4</th>\n",
       "      <td>0.097170</td>\n",
       "      <td>0.0</td>\n",
       "      <td>0.073236</td>\n",
       "      <td>0</td>\n",
       "      <td>0.256165</td>\n",
       "      <td>0</td>\n",
       "      <td>0.060446</td>\n",
       "      <td>0</td>\n",
       "      <td>0.161595</td>\n",
       "      <td>0</td>\n",
       "      <td>0.083168</td>\n",
       "      <td>0</td>\n",
       "    </tr>\n",
       "  </tbody>\n",
       "</table>\n",
       "</div>"
      ],
      "text/plain": [
       "   lr_proba  lr_prediction  ann1_proba  ann1_prediction  ann2_proba  \\\n",
       "0  0.232790            0.0    0.055971                0    0.015358   \n",
       "1  0.248598            0.0    0.066403                0    0.002427   \n",
       "2  0.374901            0.0    0.317752                0    0.163171   \n",
       "3  0.192899            0.0    0.070699                0    0.000979   \n",
       "4  0.097170            0.0    0.073236                0    0.256165   \n",
       "\n",
       "   ann2_prediction  ann3_proba  ann3_prediction  ann4_proba  ann4_prediction  \\\n",
       "0                0    0.160744                0    0.056704                0   \n",
       "1                0    0.100713                0    0.018883                0   \n",
       "2                0    0.229806                0    0.336855                0   \n",
       "3                0    0.056118                0    0.016298                0   \n",
       "4                0    0.060446                0    0.161595                0   \n",
       "\n",
       "   ann5_proba  ann5_prediction  \n",
       "0    0.142054                0  \n",
       "1    0.094695                0  \n",
       "2    0.517741                1  \n",
       "3    0.088935                0  \n",
       "4    0.083168                0  "
      ]
     },
     "execution_count": 95,
     "metadata": {},
     "output_type": "execute_result"
    }
   ],
   "source": [
    "compile_model(X, df, ann5, \"ann5\", True)\n",
    "df.head().loc[:, \"lr_proba\":]"
   ]
  },
  {
   "cell_type": "code",
   "execution_count": 96,
   "metadata": {},
   "outputs": [
    {
     "data": {
      "text/html": [
       "<div>\n",
       "<style scoped>\n",
       "    .dataframe tbody tr th:only-of-type {\n",
       "        vertical-align: middle;\n",
       "    }\n",
       "\n",
       "    .dataframe tbody tr th {\n",
       "        vertical-align: top;\n",
       "    }\n",
       "\n",
       "    .dataframe thead th {\n",
       "        text-align: right;\n",
       "    }\n",
       "</style>\n",
       "<table border=\"1\" class=\"dataframe\">\n",
       "  <thead>\n",
       "    <tr style=\"text-align: right;\">\n",
       "      <th></th>\n",
       "      <th>lr_proba</th>\n",
       "      <th>lr_prediction</th>\n",
       "      <th>ann1_proba</th>\n",
       "      <th>ann1_prediction</th>\n",
       "      <th>ann2_proba</th>\n",
       "      <th>ann2_prediction</th>\n",
       "      <th>ann3_proba</th>\n",
       "      <th>ann3_prediction</th>\n",
       "      <th>ann4_proba</th>\n",
       "      <th>ann4_prediction</th>\n",
       "      <th>ann5_proba</th>\n",
       "      <th>ann5_prediction</th>\n",
       "      <th>tree_proba</th>\n",
       "      <th>tree_prediction</th>\n",
       "    </tr>\n",
       "  </thead>\n",
       "  <tbody>\n",
       "    <tr>\n",
       "      <th>0</th>\n",
       "      <td>0.232790</td>\n",
       "      <td>0.0</td>\n",
       "      <td>0.055971</td>\n",
       "      <td>0</td>\n",
       "      <td>0.015358</td>\n",
       "      <td>0</td>\n",
       "      <td>0.160744</td>\n",
       "      <td>0</td>\n",
       "      <td>0.056704</td>\n",
       "      <td>0</td>\n",
       "      <td>0.142054</td>\n",
       "      <td>0</td>\n",
       "      <td>0.0</td>\n",
       "      <td>0.0</td>\n",
       "    </tr>\n",
       "    <tr>\n",
       "      <th>1</th>\n",
       "      <td>0.248598</td>\n",
       "      <td>0.0</td>\n",
       "      <td>0.066403</td>\n",
       "      <td>0</td>\n",
       "      <td>0.002427</td>\n",
       "      <td>0</td>\n",
       "      <td>0.100713</td>\n",
       "      <td>0</td>\n",
       "      <td>0.018883</td>\n",
       "      <td>0</td>\n",
       "      <td>0.094695</td>\n",
       "      <td>0</td>\n",
       "      <td>0.0</td>\n",
       "      <td>0.0</td>\n",
       "    </tr>\n",
       "    <tr>\n",
       "      <th>2</th>\n",
       "      <td>0.374901</td>\n",
       "      <td>0.0</td>\n",
       "      <td>0.317752</td>\n",
       "      <td>0</td>\n",
       "      <td>0.163171</td>\n",
       "      <td>0</td>\n",
       "      <td>0.229806</td>\n",
       "      <td>0</td>\n",
       "      <td>0.336855</td>\n",
       "      <td>0</td>\n",
       "      <td>0.517741</td>\n",
       "      <td>1</td>\n",
       "      <td>1.0</td>\n",
       "      <td>1.0</td>\n",
       "    </tr>\n",
       "    <tr>\n",
       "      <th>3</th>\n",
       "      <td>0.192899</td>\n",
       "      <td>0.0</td>\n",
       "      <td>0.070699</td>\n",
       "      <td>0</td>\n",
       "      <td>0.000979</td>\n",
       "      <td>0</td>\n",
       "      <td>0.056118</td>\n",
       "      <td>0</td>\n",
       "      <td>0.016298</td>\n",
       "      <td>0</td>\n",
       "      <td>0.088935</td>\n",
       "      <td>0</td>\n",
       "      <td>0.0</td>\n",
       "      <td>0.0</td>\n",
       "    </tr>\n",
       "    <tr>\n",
       "      <th>4</th>\n",
       "      <td>0.097170</td>\n",
       "      <td>0.0</td>\n",
       "      <td>0.073236</td>\n",
       "      <td>0</td>\n",
       "      <td>0.256165</td>\n",
       "      <td>0</td>\n",
       "      <td>0.060446</td>\n",
       "      <td>0</td>\n",
       "      <td>0.161595</td>\n",
       "      <td>0</td>\n",
       "      <td>0.083168</td>\n",
       "      <td>0</td>\n",
       "      <td>0.0</td>\n",
       "      <td>0.0</td>\n",
       "    </tr>\n",
       "  </tbody>\n",
       "</table>\n",
       "</div>"
      ],
      "text/plain": [
       "   lr_proba  lr_prediction  ann1_proba  ann1_prediction  ann2_proba  \\\n",
       "0  0.232790            0.0    0.055971                0    0.015358   \n",
       "1  0.248598            0.0    0.066403                0    0.002427   \n",
       "2  0.374901            0.0    0.317752                0    0.163171   \n",
       "3  0.192899            0.0    0.070699                0    0.000979   \n",
       "4  0.097170            0.0    0.073236                0    0.256165   \n",
       "\n",
       "   ann2_prediction  ann3_proba  ann3_prediction  ann4_proba  ann4_prediction  \\\n",
       "0                0    0.160744                0    0.056704                0   \n",
       "1                0    0.100713                0    0.018883                0   \n",
       "2                0    0.229806                0    0.336855                0   \n",
       "3                0    0.056118                0    0.016298                0   \n",
       "4                0    0.060446                0    0.161595                0   \n",
       "\n",
       "   ann5_proba  ann5_prediction  tree_proba  tree_prediction  \n",
       "0    0.142054                0         0.0              0.0  \n",
       "1    0.094695                0         0.0              0.0  \n",
       "2    0.517741                1         1.0              1.0  \n",
       "3    0.088935                0         0.0              0.0  \n",
       "4    0.083168                0         0.0              0.0  "
      ]
     },
     "execution_count": 96,
     "metadata": {},
     "output_type": "execute_result"
    }
   ],
   "source": [
    "compile_model(X, df, tree_gini, \"tree\", False)\n",
    "df.head().loc[:, \"lr_proba\":]"
   ]
  }
 ],
 "metadata": {
  "kernelspec": {
   "display_name": "Python 3",
   "language": "python",
   "name": "python3"
  },
  "language_info": {
   "codemirror_mode": {
    "name": "ipython",
    "version": 3
   },
   "file_extension": ".py",
   "mimetype": "text/x-python",
   "name": "python",
   "nbconvert_exporter": "python",
   "pygments_lexer": "ipython3",
   "version": "3.8.5"
  }
 },
 "nbformat": 4,
 "nbformat_minor": 4
}
